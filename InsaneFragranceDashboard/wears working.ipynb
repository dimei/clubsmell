{
 "cells": [
  {
   "cell_type": "code",
   "execution_count": 99,
   "metadata": {},
   "outputs": [],
   "source": [
    "#! pip install plotly-express\n",
    "#! pip install streamlit\n",
    "#! pip install pandas\n",
    "#!pip install --upgrade numpy\n",
    "#!pip install --upgrade openpyxl\n",
    "import pandas as pd\n",
    "import plotly.express as px\n",
    "import numpy as np\n",
    "import datetime\n",
    "import plotly.graph_objects as go\n"
   ]
  },
  {
   "cell_type": "code",
   "execution_count": 21,
   "metadata": {},
   "outputs": [],
   "source": [
    "def read_wears():\n",
    "    \"\"\"\n",
    "    Read fragrance wear data from Excel sheets.\n",
    "\n",
    "    Reads all sheets from the Excel file 'Copy of Silly_Fragrance_excel.xlsx' and concatenates them\n",
    "    into a single DataFrame. Filters out rows where 'Wears' is equal to 0 and removes any unnamed columns.\n",
    "\n",
    "    Returns:\n",
    "        pd.DataFrame: A DataFrame containing fragrance wear data with a new column 'sheet_name'.\n",
    "    \"\"\"\n",
    "    excel_file='Copy of Silly_Fragrance_excel.xlsx'\n",
    "    # Read all sheets into a dictionary\n",
    "    all_sheets = pd.read_excel(excel_file, sheet_name=None)\n",
    "\n",
    "    # Filter sheets containing 'Wears for'\n",
    "    wears_sheets = {sheet_name: sheet_df for sheet_name, sheet_df in all_sheets.items() if 'Wears for' in sheet_name}\n",
    "    \n",
    "    #sort ascending, so that is in order by each year 2021-2022, 2023, 2024\n",
    "    wears_sheets_ordered = dict(sorted(wears_sheets.items()))\n",
    "    \n",
    "    # Concatenate all DataFrames into one DataFrame with a new column 'sheet_name'\n",
    "    wears_df = pd.concat([df.assign(sheet_name=sheet_name) for sheet_name, df in wears_sheets_ordered.items()], ignore_index=True)\n",
    "    wears_df=wears_df.dropna(how='all')\n",
    "    wears_df = wears_df.loc[:, ~wears_df.columns.str.contains('^Unnamed')]\n",
    "    wears_df = wears_df[wears_df['Wears'] != 0]\n",
    "    return wears_df\n"
   ]
  },
  {
   "cell_type": "code",
   "execution_count": 22,
   "metadata": {},
   "outputs": [],
   "source": [
    "def sum_wears(wears_df,frag):\n",
    "    \"\"\"\n",
    "    Summarize fragrance wear data for a specific fragrance.\n",
    "\n",
    "    Groups the DataFrame by fragrance and calculates the sum of 'Wears' for each fragrance.\n",
    "    Returns the total wears, rank based on total wears, and estimates the leftover milliliters\n",
    "    of fragrance based on assumptions of sprays per milliliter and sprays per wear.\n",
    "\n",
    "    Args:\n",
    "        wears_df (pd.DataFrame): DataFrame containing fragrance wear data.\n",
    "        frag (str): The fragrance for which to summarize wear data.\n",
    "\n",
    "    Returns:\n",
    "        tuple: A tuple containing the following elements:\n",
    "            - int: Total wears for the given fragrance across all sheets.\n",
    "            - int: Rank of the fragrance based on total wears.\n",
    "            - float: Estimated leftover milliliters of fragrance.\n",
    "            - pd.DataFrame: Subset of the original DataFrame for the specified fragrance.\n",
    "    \"\"\"\n",
    "    \n",
    "    wears_allsum=wears_df.groupby(['Fragrance'])['Wears'].sum()\n",
    "    #display(wears_allsum.index)\n",
    "    if frag not in wears_allsum.index:\n",
    "        print(f\"Wears not tracked for fragrance: {frag}\")\n",
    "        return None  # or any other value indicating not tracked\n",
    "    frag_wears_alltime=wears_allsum[frag]\n",
    "    rank= int(wears_allsum.rank(ascending=False)[frag])\n",
    "    \n",
    "    total_ml_df=wears_df[wears_df[\"Fragrance\"]==frag][\"mL\"] +(wears_df[wears_df[\"Fragrance\"]==frag][\"mL\"] * wears_df[wears_df[\"Fragrance\"]==frag][\"Backups\"])\n",
    "    total_ml=total_ml_df.unique()\n",
    "\n",
    "    # if total_ml no consensus amongst Wears tabs, take the last one -1 (most recent). \n",
    "    # if consensus, 0 to grab the only value\n",
    "    # assume 12 sprays per mL. 4 sprays per wear. So 1 wear is 4/12 of a mL\n",
    "    if len(total_ml) >1:\n",
    "        starting_ml=total_ml[-1]\n",
    "\n",
    "    else:\n",
    "        starting_ml=total_ml[0]\n",
    "    leftover_ml=starting_ml-(frag_wears_alltime*4/12)\n",
    "    return frag_wears_alltime,rank, leftover_ml,wears_df[wears_df[\"Fragrance\"]==frag], starting_ml\n",
    "\n"
   ]
  },
  {
   "cell_type": "code",
   "execution_count": 23,
   "metadata": {},
   "outputs": [],
   "source": [
    "def calculate_ml_left(starting_ml, wears):\n",
    "    # Assuming 12 sprays per mL and 4 sprays per wear\n",
    "    return starting_ml - (wears * 4 / 12)\n",
    "\n",
    "def iterative_ml_left(plot_df, starting_ml):\n",
    "\n",
    "    # Initialize mL remaining for the first row\n",
    "    plot_df.loc[0, \"mL Remaining\"] = calculate_ml_left(starting_ml, plot_df.loc[0,\"Wears\"])\n",
    "\n",
    "    # Iterate through rows and calculate mL remaining iteratively\n",
    "    for i in range(1, len(plot_df)):\n",
    "        plot_df.loc[i,\"mL Remaining\"] = calculate_ml_left(plot_df.loc[i - 1,\"mL Remaining\"], plot_df.loc[i,\"Wears\"])\n",
    "\n",
    "    return plot_df\n"
   ]
  },
  {
   "cell_type": "code",
   "execution_count": 98,
   "metadata": {},
   "outputs": [
    {
     "data": {
      "text/plain": [
       "Index([0], dtype='int64')"
      ]
     },
     "metadata": {},
     "output_type": "display_data"
    },
    {
     "data": {
      "application/vnd.plotly.v1+json": {
       "config": {
        "plotlyServerURL": "https://plot.ly"
       },
       "data": [
        {
         "alignmentgroup": "True",
         "hovertemplate": "Fragrance=%{x}<br>Wears=%{y}<extra></extra>",
         "legendgroup": "",
         "marker": {
          "color": [
           "gold",
           "black",
           "black",
           "black",
           "black",
           "black",
           "black",
           "black",
           "black",
           "black",
           "black",
           "black",
           "black",
           "black",
           "black",
           "black",
           "black",
           "black",
           "black",
           "black",
           "black",
           "black",
           "black",
           "black",
           "black",
           "black",
           "black",
           "black",
           "black",
           "black",
           "black",
           "black",
           "black",
           "black",
           "black",
           "black",
           "black",
           "black",
           "black",
           "black",
           "black",
           "black",
           "black",
           "black",
           "black",
           "black",
           "black",
           "black"
          ],
          "pattern": {
           "shape": ""
          }
         },
         "name": "",
         "offsetgroup": "",
         "orientation": "v",
         "showlegend": false,
         "textposition": "auto",
         "type": "bar",
         "x": [
          "Iris Poudre",
          "En Passant",
          "Fleurs d'Oranger",
          "Lipstick Rose",
          "No. 22",
          "Mimosa Pour Moi",
          "Cuir Beluga",
          "Misia",
          "Hiris",
          "Une Fleur du Cassie",
          "Epice Marine",
          "Cologne Indelible",
          "Caleche Parfum",
          "Opone",
          "La Pausa",
          "Caleche Fleurs de Mediteranee",
          "Nuit de Feu",
          "Equipage",
          "Rose Parfum",
          "Santal Massoia",
          "Le Parfum de Therese",
          "Cedre Sambac",
          "Insolence EDP",
          "Cuir de Russie",
          "Daim Blonde",
          "Fiore de Chinotto",
          "Caleche Soie de Parfum (EDP)",
          "Orange Star",
          "Cuir d'Ange",
          "Dans tes Bras",
          "Mandarine-Mandarin",
          "Iris 39",
          "Libertine Neroli",
          "Le Dix",
          "Synthetic Jungle",
          "Lui EDP",
          "Number 18",
          "Bel Respiro",
          "Vol de Nuit EDT",
          "L'Heure Bleu",
          "Cologne Blanche",
          "Bel Ami",
          "Muguet Porcelain",
          "L'eau d'Hiver",
          "No. 19 Parfum",
          "Afternoon of a Faun",
          "No. 5 Eau Premiere",
          "Eau d'Hermes"
         ],
         "xaxis": "x",
         "y": [
          60,
          52,
          51,
          51,
          50,
          48,
          48,
          47,
          46,
          45,
          43,
          42,
          39,
          39,
          36,
          34,
          32,
          32,
          29,
          28,
          28,
          24,
          21,
          21,
          21,
          19,
          19,
          19,
          18,
          17,
          17,
          16,
          15,
          14,
          11,
          11,
          10,
          9,
          9,
          8,
          7,
          6,
          4,
          4,
          3,
          3,
          1,
          1
         ],
         "yaxis": "y"
        }
       ],
       "layout": {
        "barmode": "relative",
        "legend": {
         "tracegroupgap": 0
        },
        "template": {
         "data": {
          "candlestick": [
           {
            "decreasing": {
             "line": {
              "color": "#000033"
             }
            },
            "increasing": {
             "line": {
              "color": "#000032"
             }
            },
            "type": "candlestick"
           }
          ],
          "contour": [
           {
            "colorscale": [
             [
              0,
              "#000011"
             ],
             [
              0.1111111111111111,
              "#000012"
             ],
             [
              0.2222222222222222,
              "#000013"
             ],
             [
              0.3333333333333333,
              "#000014"
             ],
             [
              0.4444444444444444,
              "#000015"
             ],
             [
              0.5555555555555556,
              "#000016"
             ],
             [
              0.6666666666666666,
              "#000017"
             ],
             [
              0.7777777777777778,
              "#000018"
             ],
             [
              0.8888888888888888,
              "#000019"
             ],
             [
              1,
              "#000020"
             ]
            ],
            "type": "contour"
           }
          ],
          "contourcarpet": [
           {
            "colorscale": [
             [
              0,
              "#000011"
             ],
             [
              0.1111111111111111,
              "#000012"
             ],
             [
              0.2222222222222222,
              "#000013"
             ],
             [
              0.3333333333333333,
              "#000014"
             ],
             [
              0.4444444444444444,
              "#000015"
             ],
             [
              0.5555555555555556,
              "#000016"
             ],
             [
              0.6666666666666666,
              "#000017"
             ],
             [
              0.7777777777777778,
              "#000018"
             ],
             [
              0.8888888888888888,
              "#000019"
             ],
             [
              1,
              "#000020"
             ]
            ],
            "type": "contourcarpet"
           }
          ],
          "heatmap": [
           {
            "colorscale": [
             [
              0,
              "#000011"
             ],
             [
              0.1111111111111111,
              "#000012"
             ],
             [
              0.2222222222222222,
              "#000013"
             ],
             [
              0.3333333333333333,
              "#000014"
             ],
             [
              0.4444444444444444,
              "#000015"
             ],
             [
              0.5555555555555556,
              "#000016"
             ],
             [
              0.6666666666666666,
              "#000017"
             ],
             [
              0.7777777777777778,
              "#000018"
             ],
             [
              0.8888888888888888,
              "#000019"
             ],
             [
              1,
              "#000020"
             ]
            ],
            "type": "heatmap"
           }
          ],
          "histogram2d": [
           {
            "colorscale": [
             [
              0,
              "#000011"
             ],
             [
              0.1111111111111111,
              "#000012"
             ],
             [
              0.2222222222222222,
              "#000013"
             ],
             [
              0.3333333333333333,
              "#000014"
             ],
             [
              0.4444444444444444,
              "#000015"
             ],
             [
              0.5555555555555556,
              "#000016"
             ],
             [
              0.6666666666666666,
              "#000017"
             ],
             [
              0.7777777777777778,
              "#000018"
             ],
             [
              0.8888888888888888,
              "#000019"
             ],
             [
              1,
              "#000020"
             ]
            ],
            "type": "histogram2d"
           }
          ],
          "icicle": [
           {
            "textfont": {
             "color": "white"
            },
            "type": "icicle"
           }
          ],
          "sankey": [
           {
            "textfont": {
             "color": "#000036"
            },
            "type": "sankey"
           }
          ],
          "scatter": [
           {
            "marker": {
             "line": {
              "width": 0
             }
            },
            "type": "scatter"
           }
          ],
          "table": [
           {
            "cells": {
             "fill": {
              "color": "#000038"
             },
             "font": {
              "color": "#000037"
             },
             "line": {
              "color": "#000039"
             }
            },
            "header": {
             "fill": {
              "color": "#000040"
             },
             "font": {
              "color": "#000036"
             },
             "line": {
              "color": "#000039"
             }
            },
            "type": "table"
           }
          ],
          "waterfall": [
           {
            "connector": {
             "line": {
              "color": "#000036",
              "width": 2
             }
            },
            "decreasing": {
             "marker": {
              "color": "#000033"
             }
            },
            "increasing": {
             "marker": {
              "color": "#000032"
             }
            },
            "totals": {
             "marker": {
              "color": "#000034"
             }
            },
            "type": "waterfall"
           }
          ]
         },
         "layout": {
          "coloraxis": {
           "colorscale": [
            [
             0,
             "#000011"
            ],
            [
             0.1111111111111111,
             "#000012"
            ],
            [
             0.2222222222222222,
             "#000013"
            ],
            [
             0.3333333333333333,
             "#000014"
            ],
            [
             0.4444444444444444,
             "#000015"
            ],
            [
             0.5555555555555556,
             "#000016"
            ],
            [
             0.6666666666666666,
             "#000017"
            ],
            [
             0.7777777777777778,
             "#000018"
            ],
            [
             0.8888888888888888,
             "#000019"
            ],
            [
             1,
             "#000020"
            ]
           ]
          },
          "colorscale": {
           "diverging": [
            [
             0,
             "#000021"
            ],
            [
             0.1,
             "#000022"
            ],
            [
             0.2,
             "#000023"
            ],
            [
             0.3,
             "#000024"
            ],
            [
             0.4,
             "#000025"
            ],
            [
             0.5,
             "#000026"
            ],
            [
             0.6,
             "#000027"
            ],
            [
             0.7,
             "#000028"
            ],
            [
             0.8,
             "#000029"
            ],
            [
             0.9,
             "#000030"
            ],
            [
             1,
             "#000031"
            ]
           ],
           "sequential": [
            [
             0,
             "#000011"
            ],
            [
             0.1111111111111111,
             "#000012"
            ],
            [
             0.2222222222222222,
             "#000013"
            ],
            [
             0.3333333333333333,
             "#000014"
            ],
            [
             0.4444444444444444,
             "#000015"
            ],
            [
             0.5555555555555556,
             "#000016"
            ],
            [
             0.6666666666666666,
             "#000017"
            ],
            [
             0.7777777777777778,
             "#000018"
            ],
            [
             0.8888888888888888,
             "#000019"
            ],
            [
             1,
             "#000020"
            ]
           ],
           "sequentialminus": [
            [
             0,
             "#000011"
            ],
            [
             0.1111111111111111,
             "#000012"
            ],
            [
             0.2222222222222222,
             "#000013"
            ],
            [
             0.3333333333333333,
             "#000014"
            ],
            [
             0.4444444444444444,
             "#000015"
            ],
            [
             0.5555555555555556,
             "#000016"
            ],
            [
             0.6666666666666666,
             "#000017"
            ],
            [
             0.7777777777777778,
             "#000018"
            ],
            [
             0.8888888888888888,
             "#000019"
            ],
            [
             1,
             "#000020"
            ]
           ]
          },
          "colorway": [
           "#000001",
           "#000002",
           "#000003",
           "#000004",
           "#000005",
           "#000006",
           "#000007",
           "#000008",
           "#000009",
           "#000010"
          ]
         }
        },
        "title": {
         "text": "All Time Wears Per Fragrance, Rank: 1 out of 48"
        },
        "xaxis": {
         "anchor": "y",
         "domain": [
          0,
          1
         ],
         "title": {}
        },
        "yaxis": {
         "anchor": "x",
         "domain": [
          0,
          1
         ],
         "title": {
          "text": "Wears"
         }
        }
       }
      },
      "text/html": [
       "<div>                            <div id=\"0adf588d-6e3a-4168-9293-fa8f249f642a\" class=\"plotly-graph-div\" style=\"height:525px; width:100%;\"></div>            <script type=\"text/javascript\">                require([\"plotly\"], function(Plotly) {                    window.PLOTLYENV=window.PLOTLYENV || {};                                    if (document.getElementById(\"0adf588d-6e3a-4168-9293-fa8f249f642a\")) {                    Plotly.newPlot(                        \"0adf588d-6e3a-4168-9293-fa8f249f642a\",                        [{\"alignmentgroup\":\"True\",\"hovertemplate\":\"Fragrance=%{x}\\u003cbr\\u003eWears=%{y}\\u003cextra\\u003e\\u003c\\u002fextra\\u003e\",\"legendgroup\":\"\",\"marker\":{\"color\":[\"gold\",\"black\",\"black\",\"black\",\"black\",\"black\",\"black\",\"black\",\"black\",\"black\",\"black\",\"black\",\"black\",\"black\",\"black\",\"black\",\"black\",\"black\",\"black\",\"black\",\"black\",\"black\",\"black\",\"black\",\"black\",\"black\",\"black\",\"black\",\"black\",\"black\",\"black\",\"black\",\"black\",\"black\",\"black\",\"black\",\"black\",\"black\",\"black\",\"black\",\"black\",\"black\",\"black\",\"black\",\"black\",\"black\",\"black\",\"black\"],\"pattern\":{\"shape\":\"\"}},\"name\":\"\",\"offsetgroup\":\"\",\"orientation\":\"v\",\"showlegend\":false,\"textposition\":\"auto\",\"x\":[\"Iris Poudre\",\"En Passant\",\"Fleurs d'Oranger\",\"Lipstick Rose\",\"No. 22\",\"Mimosa Pour Moi\",\"Cuir Beluga\",\"Misia\",\"Hiris\",\"Une Fleur du Cassie\",\"Epice Marine\",\"Cologne Indelible\",\"Caleche Parfum\",\"Opone\",\"La Pausa\",\"Caleche Fleurs de Mediteranee\",\"Nuit de Feu\",\"Equipage\",\"Rose Parfum\",\"Santal Massoia\",\"Le Parfum de Therese\",\"Cedre Sambac\",\"Insolence EDP\",\"Cuir de Russie\",\"Daim Blonde\",\"Fiore de Chinotto\",\"Caleche Soie de Parfum (EDP)\",\"Orange Star\",\"Cuir d'Ange\",\"Dans tes Bras\",\"Mandarine-Mandarin\",\"Iris 39\",\"Libertine Neroli\",\"Le Dix\",\"Synthetic Jungle\",\"Lui EDP\",\"Number 18\",\"Bel Respiro\",\"Vol de Nuit EDT\",\"L'Heure Bleu\",\"Cologne Blanche\",\"Bel Ami\",\"Muguet Porcelain\",\"L'eau d'Hiver\",\"No. 19 Parfum\",\"Afternoon of a Faun\",\"No. 5 Eau Premiere\",\"Eau d'Hermes\"],\"xaxis\":\"x\",\"y\":[60,52,51,51,50,48,48,47,46,45,43,42,39,39,36,34,32,32,29,28,28,24,21,21,21,19,19,19,18,17,17,16,15,14,11,11,10,9,9,8,7,6,4,4,3,3,1,1],\"yaxis\":\"y\",\"type\":\"bar\"}],                        {\"template\":{\"data\":{\"candlestick\":[{\"decreasing\":{\"line\":{\"color\":\"#000033\"}},\"increasing\":{\"line\":{\"color\":\"#000032\"}},\"type\":\"candlestick\"}],\"contourcarpet\":[{\"colorscale\":[[0.0,\"#000011\"],[0.1111111111111111,\"#000012\"],[0.2222222222222222,\"#000013\"],[0.3333333333333333,\"#000014\"],[0.4444444444444444,\"#000015\"],[0.5555555555555556,\"#000016\"],[0.6666666666666666,\"#000017\"],[0.7777777777777778,\"#000018\"],[0.8888888888888888,\"#000019\"],[1.0,\"#000020\"]],\"type\":\"contourcarpet\"}],\"contour\":[{\"colorscale\":[[0.0,\"#000011\"],[0.1111111111111111,\"#000012\"],[0.2222222222222222,\"#000013\"],[0.3333333333333333,\"#000014\"],[0.4444444444444444,\"#000015\"],[0.5555555555555556,\"#000016\"],[0.6666666666666666,\"#000017\"],[0.7777777777777778,\"#000018\"],[0.8888888888888888,\"#000019\"],[1.0,\"#000020\"]],\"type\":\"contour\"}],\"heatmap\":[{\"colorscale\":[[0.0,\"#000011\"],[0.1111111111111111,\"#000012\"],[0.2222222222222222,\"#000013\"],[0.3333333333333333,\"#000014\"],[0.4444444444444444,\"#000015\"],[0.5555555555555556,\"#000016\"],[0.6666666666666666,\"#000017\"],[0.7777777777777778,\"#000018\"],[0.8888888888888888,\"#000019\"],[1.0,\"#000020\"]],\"type\":\"heatmap\"}],\"histogram2d\":[{\"colorscale\":[[0.0,\"#000011\"],[0.1111111111111111,\"#000012\"],[0.2222222222222222,\"#000013\"],[0.3333333333333333,\"#000014\"],[0.4444444444444444,\"#000015\"],[0.5555555555555556,\"#000016\"],[0.6666666666666666,\"#000017\"],[0.7777777777777778,\"#000018\"],[0.8888888888888888,\"#000019\"],[1.0,\"#000020\"]],\"type\":\"histogram2d\"}],\"icicle\":[{\"textfont\":{\"color\":\"white\"},\"type\":\"icicle\"}],\"sankey\":[{\"textfont\":{\"color\":\"#000036\"},\"type\":\"sankey\"}],\"scatter\":[{\"marker\":{\"line\":{\"width\":0}},\"type\":\"scatter\"}],\"table\":[{\"cells\":{\"fill\":{\"color\":\"#000038\"},\"font\":{\"color\":\"#000037\"},\"line\":{\"color\":\"#000039\"}},\"header\":{\"fill\":{\"color\":\"#000040\"},\"font\":{\"color\":\"#000036\"},\"line\":{\"color\":\"#000039\"}},\"type\":\"table\"}],\"waterfall\":[{\"connector\":{\"line\":{\"color\":\"#000036\",\"width\":2}},\"decreasing\":{\"marker\":{\"color\":\"#000033\"}},\"increasing\":{\"marker\":{\"color\":\"#000032\"}},\"totals\":{\"marker\":{\"color\":\"#000034\"}},\"type\":\"waterfall\"}]},\"layout\":{\"coloraxis\":{\"colorscale\":[[0.0,\"#000011\"],[0.1111111111111111,\"#000012\"],[0.2222222222222222,\"#000013\"],[0.3333333333333333,\"#000014\"],[0.4444444444444444,\"#000015\"],[0.5555555555555556,\"#000016\"],[0.6666666666666666,\"#000017\"],[0.7777777777777778,\"#000018\"],[0.8888888888888888,\"#000019\"],[1.0,\"#000020\"]]},\"colorscale\":{\"diverging\":[[0.0,\"#000021\"],[0.1,\"#000022\"],[0.2,\"#000023\"],[0.3,\"#000024\"],[0.4,\"#000025\"],[0.5,\"#000026\"],[0.6,\"#000027\"],[0.7,\"#000028\"],[0.8,\"#000029\"],[0.9,\"#000030\"],[1.0,\"#000031\"]],\"sequential\":[[0.0,\"#000011\"],[0.1111111111111111,\"#000012\"],[0.2222222222222222,\"#000013\"],[0.3333333333333333,\"#000014\"],[0.4444444444444444,\"#000015\"],[0.5555555555555556,\"#000016\"],[0.6666666666666666,\"#000017\"],[0.7777777777777778,\"#000018\"],[0.8888888888888888,\"#000019\"],[1.0,\"#000020\"]],\"sequentialminus\":[[0.0,\"#000011\"],[0.1111111111111111,\"#000012\"],[0.2222222222222222,\"#000013\"],[0.3333333333333333,\"#000014\"],[0.4444444444444444,\"#000015\"],[0.5555555555555556,\"#000016\"],[0.6666666666666666,\"#000017\"],[0.7777777777777778,\"#000018\"],[0.8888888888888888,\"#000019\"],[1.0,\"#000020\"]]},\"colorway\":[\"#000001\",\"#000002\",\"#000003\",\"#000004\",\"#000005\",\"#000006\",\"#000007\",\"#000008\",\"#000009\",\"#000010\"]}},\"xaxis\":{\"anchor\":\"y\",\"domain\":[0.0,1.0],\"title\":{}},\"yaxis\":{\"anchor\":\"x\",\"domain\":[0.0,1.0],\"title\":{\"text\":\"Wears\"}},\"legend\":{\"tracegroupgap\":0},\"title\":{\"text\":\"All Time Wears Per Fragrance, Rank: 1 out of 48\"},\"barmode\":\"relative\"},                        {\"responsive\": true}                    ).then(function(){\n",
       "                            \n",
       "var gd = document.getElementById('0adf588d-6e3a-4168-9293-fa8f249f642a');\n",
       "var x = new MutationObserver(function (mutations, observer) {{\n",
       "        var display = window.getComputedStyle(gd).display;\n",
       "        if (!display || display === 'none') {{\n",
       "            console.log([gd, 'removed!']);\n",
       "            Plotly.purge(gd);\n",
       "            observer.disconnect();\n",
       "        }}\n",
       "}});\n",
       "\n",
       "// Listen for the removal of the full notebook cells\n",
       "var notebookContainer = gd.closest('#notebook-container');\n",
       "if (notebookContainer) {{\n",
       "    x.observe(notebookContainer, {childList: true});\n",
       "}}\n",
       "\n",
       "// Listen for the clearing of the current output cell\n",
       "var outputEl = gd.closest('.output');\n",
       "if (outputEl) {{\n",
       "    x.observe(outputEl, {childList: true});\n",
       "}}\n",
       "\n",
       "                        })                };                });            </script>        </div>"
      ]
     },
     "metadata": {},
     "output_type": "display_data"
    }
   ],
   "source": [
    "\n",
    "\n",
    "def all_wears_plot (selected_fragrance,wears_df):\n",
    "\n",
    "    sorted_df = wears_df.groupby([\"Fragrance\"])[\"Wears\"].sum().reset_index().sort_values(by='Wears', ascending=False).reset_index()\n",
    "\n",
    "    # Create a bar plot\n",
    "    fig = px.bar(sorted_df, x='Fragrance', y='Wears', title='Wears by Fragrance (Descending Order)')\n",
    "\n",
    "\n",
    "\n",
    "    # Highlight the bar for the selected fragrance\n",
    "    highlighted_bar_index = sorted_df[sorted_df['Fragrance'] == selected_fragrance].index[0]\n",
    "    #display(sorted_df[sorted_df['Fragrance'] == selected_fragrance].index)\n",
    "    colors = ['gold' if i == highlighted_bar_index else 'black' for i in range(len(sorted_df))]\n",
    "    fig.data[0].marker.color = colors\n",
    "\n",
    "\n",
    "    variable2=sorted_df.index.max()\n",
    "    fig.update_layout(\n",
    "        title=f'All Time Wears Per Fragrance, Rank: {highlighted_bar_index+1} out of {variable2+1}',\n",
    "    xaxis_title=None)\n",
    "    \n",
    "    #return fig\n",
    "    # Show the plot in Streamlit app\n",
    "    #st.plotly_chart(fig)\n",
    "    fig.show()\n",
    "selected_fragrance=\"Iris Poudre\"\n",
    "all_wears_plot(selected_fragrance,wears_df)"
   ]
  },
  {
   "cell_type": "code",
   "execution_count": 25,
   "metadata": {},
   "outputs": [
    {
     "data": {
      "text/html": [
       "<div>\n",
       "<style scoped>\n",
       "    .dataframe tbody tr th:only-of-type {\n",
       "        vertical-align: middle;\n",
       "    }\n",
       "\n",
       "    .dataframe tbody tr th {\n",
       "        vertical-align: top;\n",
       "    }\n",
       "\n",
       "    .dataframe thead th {\n",
       "        text-align: right;\n",
       "    }\n",
       "</style>\n",
       "<table border=\"1\" class=\"dataframe\">\n",
       "  <thead>\n",
       "    <tr style=\"text-align: right;\">\n",
       "      <th></th>\n",
       "      <th>index</th>\n",
       "      <th>House</th>\n",
       "      <th>Fragrance</th>\n",
       "      <th>mL</th>\n",
       "      <th>Nose</th>\n",
       "      <th>Notes</th>\n",
       "      <th>Wears</th>\n",
       "      <th>Backups</th>\n",
       "      <th>sheet_name</th>\n",
       "      <th>mL Remaining</th>\n",
       "    </tr>\n",
       "  </thead>\n",
       "  <tbody>\n",
       "    <tr>\n",
       "      <th>0</th>\n",
       "      <td>8</td>\n",
       "      <td>Guerlain</td>\n",
       "      <td>Cuir Beluga</td>\n",
       "      <td>130</td>\n",
       "      <td>O.Polge</td>\n",
       "      <td>Heliotrope, suede, vanilla, immortelle</td>\n",
       "      <td>26</td>\n",
       "      <td>0</td>\n",
       "      <td>Wears for 2021-2022</td>\n",
       "      <td>121.333333</td>\n",
       "    </tr>\n",
       "    <tr>\n",
       "      <th>1</th>\n",
       "      <td>50</td>\n",
       "      <td>Guerlain</td>\n",
       "      <td>Cuir Beluga</td>\n",
       "      <td>130</td>\n",
       "      <td>O.Polge</td>\n",
       "      <td>Heliotrope, suede, vanilla, immortelle</td>\n",
       "      <td>22</td>\n",
       "      <td>0</td>\n",
       "      <td>Wears for 2023</td>\n",
       "      <td>114.000000</td>\n",
       "    </tr>\n",
       "  </tbody>\n",
       "</table>\n",
       "</div>"
      ],
      "text/plain": [
       "   index     House    Fragrance   mL     Nose  \\\n",
       "0      8  Guerlain  Cuir Beluga  130  O.Polge   \n",
       "1     50  Guerlain  Cuir Beluga  130  O.Polge   \n",
       "\n",
       "                                    Notes  Wears  Backups  \\\n",
       "0  Heliotrope, suede, vanilla, immortelle     26        0   \n",
       "1  Heliotrope, suede, vanilla, immortelle     22        0   \n",
       "\n",
       "            sheet_name  mL Remaining  \n",
       "0  Wears for 2021-2022    121.333333  \n",
       "1       Wears for 2023    114.000000  "
      ]
     },
     "execution_count": 25,
     "metadata": {},
     "output_type": "execute_result"
    }
   ],
   "source": [
    "wears_df=read_wears()\n",
    "frag=\"Cuir Beluga\"\n",
    "wears,rank,ml_left,plot_df, starting_ml=sum_wears(wears_df,frag)\n",
    "iterative_ml_left(plot_df.reset_index(),starting_ml)"
   ]
  },
  {
   "cell_type": "code",
   "execution_count": 28,
   "metadata": {},
   "outputs": [],
   "source": [
    "def plot_wears (plot_df,starting_ml):\n",
    "    plot_df[\"Year\"]=plot_df[\"sheet_name\"].str.extract('(\\d{4})')\n",
    "    plot_df.loc[plot_df['Year'] == '2021', 'Wears'] /= 2\n",
    "    # Filter rows where Year is 2021\n",
    "    rows_2021 = plot_df[plot_df['Year'] == '2021']\n",
    "\n",
    "    # Duplicate the rows\n",
    "    rows_2022 = rows_2021.copy()\n",
    "    rows_2020=rows_2021.copy()\n",
    "\n",
    "    # Set the \"Year\" column to 2022 for the new rows\n",
    "    rows_2022['Year'] = '2022'\n",
    "    rows_2020['Year'] = '2020'\n",
    "    rows_2020[\"Wears\"]=0\n",
    "    #Round Wears for 2021 down, for 2022 up\n",
    "    # Concatenate the original and new rows\n",
    "    plot_df = pd.concat([plot_df, rows_2022,rows_2020], ignore_index=True)\n",
    "\n",
    "    plot_df['Wears'] = np.where(plot_df['Year'] == '2021', np.floor(plot_df['Wears']), np.ceil(plot_df['Wears']))\n",
    "    plot_df[\"Year\"]=plot_df[\"Year\"].astype(int)\n",
    "    plot_df=plot_df.sort_values(by=\"Year\",ascending=True)\n",
    "\n",
    "    # Assuming plot_df is your DataFrame\n",
    "    plot_df['Cumulative Wears'] = plot_df['Wears'].cumsum()\n",
    "\n",
    "    plot_df[\"Years\"]=plot_df['Year']\n",
    "    # Set today's date\n",
    "    today = datetime.date.today()\n",
    "    fraction_of_year_passed = today.timetuple().tm_yday / 365\n",
    "\n",
    "    # for this year, set plot year (Years) to last year + fraction of this year passed\n",
    "    # this sets the width of this year's x axis proportional to fraction of this year passed\n",
    "    plot_df.loc[plot_df['Year'] == datetime.datetime.now().year, 'Years'] = datetime.datetime.now().year-1+fraction_of_year_passed\n",
    "\n",
    "    \n",
    "    # calc mL remaining iteratively\n",
    "    plot_df=iterative_ml_left(plot_df.reset_index(),starting_ml)\n",
    "\n",
    "    #double_fig=plotly_dual_axis(plot_df)\n",
    "    #double_fig.show()\n",
    "    \n",
    "    # Plotting cumulative wears as a line chart\n",
    "    fig_cumulative_wears = px.line(\n",
    "        plot_df,\n",
    "        x=\"Years\",  # Use the DataFrame index as x-axis\n",
    "        y=\"Cumulative Wears\",\n",
    "        title=\"Cumulative Wears per Year\",\n",
    "        color_discrete_sequence=[\"black\"],\n",
    "        template=\"plotly_white\",\n",
    "    )\n",
    "    slope=plot_df[\"Cumulative Wears\"].max()/(datetime.datetime.now().year+fraction_of_year_passed-2021)\n",
    "    #print(slope)\n",
    "    \n",
    "    \n",
    "    fig_cumulative_wears.update_layout(xaxis=dict(tickmode=\"linear\", tickvals=plot_df['Year'].unique(), ticktext=plot_df['Year'].unique().astype(int)))\n",
    "    # Display the plot\n",
    "    fig_cumulative_wears.show()"
   ]
  },
  {
   "cell_type": "code",
   "execution_count": 36,
   "metadata": {},
   "outputs": [],
   "source": [
    "def plot_wears (plot_df,starting_ml):\n",
    "    plot_df[\"Year\"]=plot_df[\"sheet_name\"].str.extract('(\\d{4})')\n",
    "    plot_df.loc[plot_df['Year'] == '2021', 'Wears'] /= 2\n",
    "    # Filter rows where Year is 2021\n",
    "    rows_2021 = plot_df[plot_df['Year'] == '2021']\n",
    "\n",
    "    # Duplicate the rows\n",
    "    rows_2022 = rows_2021.copy()\n",
    "    rows_2020=rows_2021.copy()\n",
    "\n",
    "    # Set the \"Year\" column to 2022 for the new rows\n",
    "    rows_2022['Year'] = '2022'\n",
    "    rows_2020['Year'] = '2020'\n",
    "    rows_2020[\"Wears\"]=0\n",
    "    #Round Wears for 2021 down, for 2022 up\n",
    "    # Concatenate the original and new rows\n",
    "    plot_df = pd.concat([plot_df, rows_2022,rows_2020], ignore_index=True)\n",
    "\n",
    "    plot_df['Wears'] = np.where(plot_df['Year'] == '2021', np.floor(plot_df['Wears']), np.ceil(plot_df['Wears']))\n",
    "    plot_df[\"Year\"]=plot_df[\"Year\"].astype(int)\n",
    "    plot_df=plot_df.sort_values(by=\"Year\",ascending=True)\n",
    "\n",
    "    # Assuming plot_df is your DataFrame\n",
    "    plot_df['Cumulative Wears'] = plot_df['Wears'].cumsum()\n",
    "\n",
    "    plot_df[\"Years\"]=plot_df['Year']\n",
    "    # Set today's date\n",
    "    today = datetime.date.today()\n",
    "    fraction_of_year_passed = today.timetuple().tm_yday / 365\n",
    "\n",
    "    # for this year, set plot year (Years) to last year + fraction of this year passed\n",
    "    # this sets the width of this year's x axis proportional to fraction of this year passed\n",
    "    plot_df.loc[plot_df['Year'] == datetime.datetime.now().year, 'Years'] = datetime.datetime.now().year-1+fraction_of_year_passed\n",
    "\n",
    "    \n",
    "    # calc mL remaining iteratively\n",
    "    plot_df=iterative_ml_left(plot_df.reset_index(),starting_ml)\n",
    "\n",
    "    #double_fig=plotly_dual_axis(plot_df)\n",
    "    #double_fig.show()\n",
    "    \n",
    "    # Plotting cumulative wears as a line chart\n",
    "    fig_cumulative_wears = px.line(\n",
    "        plot_df,\n",
    "        x=\"Years\",  # Use the DataFrame index as x-axis\n",
    "        y=\"Cumulative Wears\",\n",
    "        title=\"Cumulative Wears per Year\",\n",
    "        color_discrete_sequence=[\"black\"],\n",
    "        template=\"plotly_white\",\n",
    "    )\n",
    "    slope=plot_df[\"Cumulative Wears\"].max()/(datetime.datetime.now().year+fraction_of_year_passed-2021)\n",
    "    #print(slope)\n",
    "    \n",
    "    y_max = fig_cumulative_wears.update_yaxes(range=[None, None]).layout.yaxis.range[1]\n",
    "    \n",
    "    for year in plot_df['Year'].unique():\n",
    "        fig_cumulative_wears.add_shape(\n",
    "            type=\"rect\",\n",
    "            x0=year - 0.2,\n",
    "            y0=y_max-1,\n",
    "            x1=year + 0.2,\n",
    "            y1=y_max,\n",
    "            fillcolor=\"white\",  # Set the fill color as needed\n",
    "            line=dict(color=\"black\"),\n",
    "        )\n",
    "    fig_cumulative_wears.update_layout(xaxis=dict(tickmode=\"linear\", \n",
    "                                                  tickvals=plot_df['Year'].unique(), ticktext=plot_df['Year'].unique().astype(int)))\n",
    "    # Display the plot\n",
    "    fig_cumulative_wears.show()"
   ]
  },
  {
   "cell_type": "code",
   "execution_count": 41,
   "metadata": {},
   "outputs": [
    {
     "data": {
      "text/plain": [
       "2"
      ]
     },
     "execution_count": 41,
     "metadata": {},
     "output_type": "execute_result"
    }
   ],
   "source": [
    "plot_df.shape[0]"
   ]
  },
  {
   "cell_type": "code",
   "execution_count": 37,
   "metadata": {},
   "outputs": [
    {
     "name": "stderr",
     "output_type": "stream",
     "text": [
      "<ipython-input-36-143c90d3ef44>:2: SettingWithCopyWarning:\n",
      "\n",
      "\n",
      "A value is trying to be set on a copy of a slice from a DataFrame.\n",
      "Try using .loc[row_indexer,col_indexer] = value instead\n",
      "\n",
      "See the caveats in the documentation: https://pandas.pydata.org/pandas-docs/stable/user_guide/indexing.html#returning-a-view-versus-a-copy\n",
      "\n"
     ]
    },
    {
     "ename": "TypeError",
     "evalue": "unsupported operand type(s) for -: 'NoneType' and 'int'",
     "output_type": "error",
     "traceback": [
      "\u001b[0;31m---------------------------------------------------------------------------\u001b[0m",
      "\u001b[0;31mTypeError\u001b[0m                                 Traceback (most recent call last)",
      "\u001b[0;32m<ipython-input-37-ecb97336c49f>\u001b[0m in \u001b[0;36m<module>\u001b[0;34m\u001b[0m\n\u001b[1;32m      1\u001b[0m \u001b[0;31m# meh I didn't like having both on the same plot actually\u001b[0m\u001b[0;34m\u001b[0m\u001b[0;34m\u001b[0m\u001b[0;34m\u001b[0m\u001b[0m\n\u001b[1;32m      2\u001b[0m \u001b[0;31m# have mL remaining visualized as a bottle colored in\u001b[0m\u001b[0;34m\u001b[0m\u001b[0;34m\u001b[0m\u001b[0;34m\u001b[0m\u001b[0m\n\u001b[0;32m----> 3\u001b[0;31m \u001b[0mplot_wears\u001b[0m\u001b[0;34m(\u001b[0m\u001b[0mplot_df\u001b[0m\u001b[0;34m,\u001b[0m\u001b[0mstarting_ml\u001b[0m\u001b[0;34m)\u001b[0m\u001b[0;34m\u001b[0m\u001b[0;34m\u001b[0m\u001b[0m\n\u001b[0m",
      "\u001b[0;32m<ipython-input-36-143c90d3ef44>\u001b[0m in \u001b[0;36mplot_wears\u001b[0;34m(plot_df, starting_ml)\u001b[0m\n\u001b[1;32m     58\u001b[0m             \u001b[0mtype\u001b[0m\u001b[0;34m=\u001b[0m\u001b[0;34m\"rect\"\u001b[0m\u001b[0;34m,\u001b[0m\u001b[0;34m\u001b[0m\u001b[0;34m\u001b[0m\u001b[0m\n\u001b[1;32m     59\u001b[0m             \u001b[0mx0\u001b[0m\u001b[0;34m=\u001b[0m\u001b[0myear\u001b[0m \u001b[0;34m-\u001b[0m \u001b[0;36m0.2\u001b[0m\u001b[0;34m,\u001b[0m\u001b[0;34m\u001b[0m\u001b[0;34m\u001b[0m\u001b[0m\n\u001b[0;32m---> 60\u001b[0;31m             \u001b[0my0\u001b[0m\u001b[0;34m=\u001b[0m\u001b[0my_max\u001b[0m\u001b[0;34m-\u001b[0m\u001b[0;36m1\u001b[0m\u001b[0;34m,\u001b[0m\u001b[0;34m\u001b[0m\u001b[0;34m\u001b[0m\u001b[0m\n\u001b[0m\u001b[1;32m     61\u001b[0m             \u001b[0mx1\u001b[0m\u001b[0;34m=\u001b[0m\u001b[0myear\u001b[0m \u001b[0;34m+\u001b[0m \u001b[0;36m0.2\u001b[0m\u001b[0;34m,\u001b[0m\u001b[0;34m\u001b[0m\u001b[0;34m\u001b[0m\u001b[0m\n\u001b[1;32m     62\u001b[0m             \u001b[0my1\u001b[0m\u001b[0;34m=\u001b[0m\u001b[0my_max\u001b[0m\u001b[0;34m,\u001b[0m\u001b[0;34m\u001b[0m\u001b[0;34m\u001b[0m\u001b[0m\n",
      "\u001b[0;31mTypeError\u001b[0m: unsupported operand type(s) for -: 'NoneType' and 'int'"
     ]
    }
   ],
   "source": [
    "# meh I didn't like having both on the same plot actually\n",
    "# have mL remaining visualized as a bottle colored in\n",
    "plot_wears(plot_df,starting_ml)"
   ]
  },
  {
   "cell_type": "code",
   "execution_count": 108,
   "metadata": {},
   "outputs": [],
   "source": [
    "def plot_bottles(mL_left,mL_start):\n",
    "    # Percentage (replace this with your actual percentage value)\n",
    "    percentage_filled =mL_left/mL_start\n",
    "    \n",
    "    # size factor: if its a 10 mL bottle, normal size. goes up from there\n",
    "    # change this later to break out per bottle or backup. lol\n",
    "    size_fac=mL_start/50\n",
    "\n",
    "    # Create figure\n",
    "    fig = go.Figure()\n",
    "\n",
    "    # Add bottom rectangle (upright) filled gold\n",
    "    fig.add_shape(\n",
    "        type=\"rect\",\n",
    "        x0=-0.2*size_fac,\n",
    "        y0=0,\n",
    "        x1=0.2*size_fac,\n",
    "        y1=0.8*percentage_filled*size_fac,\n",
    "        fillcolor=\"gold\",\n",
    "        line=dict(color=\"black\"),\n",
    "    )\n",
    "\n",
    "    # Add bottom rectangle (upright) empty white\n",
    "    fig.add_shape(\n",
    "        type=\"rect\",\n",
    "        x0=-0.2*size_fac,\n",
    "        y0=0.8*percentage_filled*size_fac,\n",
    "        x1=0.2*size_fac,\n",
    "        y1=0.8*size_fac,\n",
    "        fillcolor=\"white\",\n",
    "        line=dict(color=\"black\"),\n",
    "    )\n",
    "\n",
    "    # Add top rectangle (lying flat), black cap\n",
    "    fig.add_shape(\n",
    "        type=\"rect\",\n",
    "        x0=-0.14*size_fac,\n",
    "        y0=0.8*size_fac,\n",
    "        x1=0.14*size_fac,\n",
    "        y1=1.2*size_fac,\n",
    "        fillcolor=\"black\",\n",
    "        line=dict(color=\"black\"),\n",
    "    )\n",
    "\n",
    "    # Set layout properties\n",
    "    fig.update_layout(\n",
    "        shapes=[\n",
    "            dict(\n",
    "                type=\"rect\",\n",
    "        x0=-0.2*size_fac,\n",
    "        y0=0.8*percentage_filled*size_fac,\n",
    "        x1=0.2*size_fac,\n",
    "        y1=0.8*size_fac,\n",
    "        fillcolor=\"white\",\n",
    "        line=dict(color=\"black\"),\n",
    "            ),\n",
    "            dict(\n",
    "                type=\"rect\",\n",
    "        x0=-0.2*size_fac,\n",
    "        y0=0,\n",
    "        x1=0.2*size_fac,\n",
    "        y1=0.8*percentage_filled*size_fac,\n",
    "        fillcolor=\"gold\",\n",
    "        line=dict(color=\"black\"),\n",
    "            ),\n",
    "            dict(\n",
    "                type=\"rect\",\n",
    "                x0=-0.14*size_fac,\n",
    "                y0=0.8*size_fac,\n",
    "                x1=0.14*size_fac,\n",
    "                y1=1.2*size_fac,\n",
    "                fillcolor=\"black\",\n",
    "                line=dict(color=\"black\"),\n",
    "            ),\n",
    "        ],\n",
    "        showlegend=False,\n",
    "        xaxis=dict(visible=False),\n",
    "        yaxis=dict(visible=False),\n",
    "        margin=dict(l=0, r=0, t=0, b=0)\n",
    "    )\n",
    "    \n",
    "\n",
    "    # Show the figure\n",
    "    #    st.plotly_chart(plot)\n",
    "    return fig\n",
    "    #fig.show()\n"
   ]
  },
  {
   "cell_type": "code",
   "execution_count": 152,
   "metadata": {},
   "outputs": [
    {
     "data": {
      "application/vnd.plotly.v1+json": {
       "config": {
        "plotlyServerURL": "https://plot.ly"
       },
       "data": [
        {
         "alignmentgroup": "True",
         "hovertemplate": "x=%{x}<br>y=%{y}<extra></extra>",
         "legendgroup": "",
         "marker": {
          "color": "#000001",
          "pattern": {
           "shape": ""
          }
         },
         "name": "",
         "offsetgroup": "",
         "orientation": "v",
         "showlegend": false,
         "textposition": "auto",
         "type": "bar",
         "x": [
          0
         ],
         "xaxis": "x",
         "y": [
          0
         ],
         "yaxis": "y"
        }
       ],
       "layout": {
        "barmode": "relative",
        "height": 100,
        "legend": {
         "tracegroupgap": 0
        },
        "margin": {
         "b": 0,
         "l": 0,
         "r": 0,
         "t": 0
        },
        "shapes": [
         {
          "fillcolor": "gold",
          "line": {
           "color": "black"
          },
          "type": "rect",
          "x0": -0.2,
          "x1": 0.2,
          "y0": 0,
          "y1": 0.48
         },
         {
          "fillcolor": "white",
          "line": {
           "color": "black"
          },
          "type": "rect",
          "x0": -0.2,
          "x1": 0.2,
          "y0": 0.48,
          "y1": 0.8
         },
         {
          "fillcolor": "black",
          "line": {
           "color": "black"
          },
          "type": "rect",
          "x0": -0.14,
          "x1": 0.14,
          "y0": 0.8,
          "y1": 1.2
         }
        ],
        "showlegend": false,
        "template": {
         "data": {
          "candlestick": [
           {
            "decreasing": {
             "line": {
              "color": "#000033"
             }
            },
            "increasing": {
             "line": {
              "color": "#000032"
             }
            },
            "type": "candlestick"
           }
          ],
          "contour": [
           {
            "colorscale": [
             [
              0,
              "#000011"
             ],
             [
              0.1111111111111111,
              "#000012"
             ],
             [
              0.2222222222222222,
              "#000013"
             ],
             [
              0.3333333333333333,
              "#000014"
             ],
             [
              0.4444444444444444,
              "#000015"
             ],
             [
              0.5555555555555556,
              "#000016"
             ],
             [
              0.6666666666666666,
              "#000017"
             ],
             [
              0.7777777777777778,
              "#000018"
             ],
             [
              0.8888888888888888,
              "#000019"
             ],
             [
              1,
              "#000020"
             ]
            ],
            "type": "contour"
           }
          ],
          "contourcarpet": [
           {
            "colorscale": [
             [
              0,
              "#000011"
             ],
             [
              0.1111111111111111,
              "#000012"
             ],
             [
              0.2222222222222222,
              "#000013"
             ],
             [
              0.3333333333333333,
              "#000014"
             ],
             [
              0.4444444444444444,
              "#000015"
             ],
             [
              0.5555555555555556,
              "#000016"
             ],
             [
              0.6666666666666666,
              "#000017"
             ],
             [
              0.7777777777777778,
              "#000018"
             ],
             [
              0.8888888888888888,
              "#000019"
             ],
             [
              1,
              "#000020"
             ]
            ],
            "type": "contourcarpet"
           }
          ],
          "heatmap": [
           {
            "colorscale": [
             [
              0,
              "#000011"
             ],
             [
              0.1111111111111111,
              "#000012"
             ],
             [
              0.2222222222222222,
              "#000013"
             ],
             [
              0.3333333333333333,
              "#000014"
             ],
             [
              0.4444444444444444,
              "#000015"
             ],
             [
              0.5555555555555556,
              "#000016"
             ],
             [
              0.6666666666666666,
              "#000017"
             ],
             [
              0.7777777777777778,
              "#000018"
             ],
             [
              0.8888888888888888,
              "#000019"
             ],
             [
              1,
              "#000020"
             ]
            ],
            "type": "heatmap"
           }
          ],
          "histogram2d": [
           {
            "colorscale": [
             [
              0,
              "#000011"
             ],
             [
              0.1111111111111111,
              "#000012"
             ],
             [
              0.2222222222222222,
              "#000013"
             ],
             [
              0.3333333333333333,
              "#000014"
             ],
             [
              0.4444444444444444,
              "#000015"
             ],
             [
              0.5555555555555556,
              "#000016"
             ],
             [
              0.6666666666666666,
              "#000017"
             ],
             [
              0.7777777777777778,
              "#000018"
             ],
             [
              0.8888888888888888,
              "#000019"
             ],
             [
              1,
              "#000020"
             ]
            ],
            "type": "histogram2d"
           }
          ],
          "icicle": [
           {
            "textfont": {
             "color": "white"
            },
            "type": "icicle"
           }
          ],
          "sankey": [
           {
            "textfont": {
             "color": "#000036"
            },
            "type": "sankey"
           }
          ],
          "scatter": [
           {
            "marker": {
             "line": {
              "width": 0
             }
            },
            "type": "scatter"
           }
          ],
          "table": [
           {
            "cells": {
             "fill": {
              "color": "#000038"
             },
             "font": {
              "color": "#000037"
             },
             "line": {
              "color": "#000039"
             }
            },
            "header": {
             "fill": {
              "color": "#000040"
             },
             "font": {
              "color": "#000036"
             },
             "line": {
              "color": "#000039"
             }
            },
            "type": "table"
           }
          ],
          "waterfall": [
           {
            "connector": {
             "line": {
              "color": "#000036",
              "width": 2
             }
            },
            "decreasing": {
             "marker": {
              "color": "#000033"
             }
            },
            "increasing": {
             "marker": {
              "color": "#000032"
             }
            },
            "totals": {
             "marker": {
              "color": "#000034"
             }
            },
            "type": "waterfall"
           }
          ]
         },
         "layout": {
          "coloraxis": {
           "colorscale": [
            [
             0,
             "#000011"
            ],
            [
             0.1111111111111111,
             "#000012"
            ],
            [
             0.2222222222222222,
             "#000013"
            ],
            [
             0.3333333333333333,
             "#000014"
            ],
            [
             0.4444444444444444,
             "#000015"
            ],
            [
             0.5555555555555556,
             "#000016"
            ],
            [
             0.6666666666666666,
             "#000017"
            ],
            [
             0.7777777777777778,
             "#000018"
            ],
            [
             0.8888888888888888,
             "#000019"
            ],
            [
             1,
             "#000020"
            ]
           ]
          },
          "colorscale": {
           "diverging": [
            [
             0,
             "#000021"
            ],
            [
             0.1,
             "#000022"
            ],
            [
             0.2,
             "#000023"
            ],
            [
             0.3,
             "#000024"
            ],
            [
             0.4,
             "#000025"
            ],
            [
             0.5,
             "#000026"
            ],
            [
             0.6,
             "#000027"
            ],
            [
             0.7,
             "#000028"
            ],
            [
             0.8,
             "#000029"
            ],
            [
             0.9,
             "#000030"
            ],
            [
             1,
             "#000031"
            ]
           ],
           "sequential": [
            [
             0,
             "#000011"
            ],
            [
             0.1111111111111111,
             "#000012"
            ],
            [
             0.2222222222222222,
             "#000013"
            ],
            [
             0.3333333333333333,
             "#000014"
            ],
            [
             0.4444444444444444,
             "#000015"
            ],
            [
             0.5555555555555556,
             "#000016"
            ],
            [
             0.6666666666666666,
             "#000017"
            ],
            [
             0.7777777777777778,
             "#000018"
            ],
            [
             0.8888888888888888,
             "#000019"
            ],
            [
             1,
             "#000020"
            ]
           ],
           "sequentialminus": [
            [
             0,
             "#000011"
            ],
            [
             0.1111111111111111,
             "#000012"
            ],
            [
             0.2222222222222222,
             "#000013"
            ],
            [
             0.3333333333333333,
             "#000014"
            ],
            [
             0.4444444444444444,
             "#000015"
            ],
            [
             0.5555555555555556,
             "#000016"
            ],
            [
             0.6666666666666666,
             "#000017"
            ],
            [
             0.7777777777777778,
             "#000018"
            ],
            [
             0.8888888888888888,
             "#000019"
            ],
            [
             1,
             "#000020"
            ]
           ]
          },
          "colorway": [
           "#000001",
           "#000002",
           "#000003",
           "#000004",
           "#000005",
           "#000006",
           "#000007",
           "#000008",
           "#000009",
           "#000010"
          ]
         }
        },
        "width": 100,
        "xaxis": {
         "anchor": "y",
         "domain": [
          0,
          1
         ],
         "title": {
          "text": "x"
         },
         "visible": false
        },
        "yaxis": {
         "anchor": "x",
         "domain": [
          0,
          1
         ],
         "title": {
          "text": "y"
         },
         "visible": false
        }
       }
      },
      "text/html": [
       "<div>                            <div id=\"c472118b-e444-46f3-ba7b-030cd63e784b\" class=\"plotly-graph-div\" style=\"height:100px; width:100px;\"></div>            <script type=\"text/javascript\">                require([\"plotly\"], function(Plotly) {                    window.PLOTLYENV=window.PLOTLYENV || {};                                    if (document.getElementById(\"c472118b-e444-46f3-ba7b-030cd63e784b\")) {                    Plotly.newPlot(                        \"c472118b-e444-46f3-ba7b-030cd63e784b\",                        [{\"alignmentgroup\":\"True\",\"hovertemplate\":\"x=%{x}\\u003cbr\\u003ey=%{y}\\u003cextra\\u003e\\u003c\\u002fextra\\u003e\",\"legendgroup\":\"\",\"marker\":{\"color\":\"#000001\",\"pattern\":{\"shape\":\"\"}},\"name\":\"\",\"offsetgroup\":\"\",\"orientation\":\"v\",\"showlegend\":false,\"textposition\":\"auto\",\"x\":[0],\"xaxis\":\"x\",\"y\":[0],\"yaxis\":\"y\",\"type\":\"bar\"}],                        {\"template\":{\"data\":{\"candlestick\":[{\"decreasing\":{\"line\":{\"color\":\"#000033\"}},\"increasing\":{\"line\":{\"color\":\"#000032\"}},\"type\":\"candlestick\"}],\"contourcarpet\":[{\"colorscale\":[[0.0,\"#000011\"],[0.1111111111111111,\"#000012\"],[0.2222222222222222,\"#000013\"],[0.3333333333333333,\"#000014\"],[0.4444444444444444,\"#000015\"],[0.5555555555555556,\"#000016\"],[0.6666666666666666,\"#000017\"],[0.7777777777777778,\"#000018\"],[0.8888888888888888,\"#000019\"],[1.0,\"#000020\"]],\"type\":\"contourcarpet\"}],\"contour\":[{\"colorscale\":[[0.0,\"#000011\"],[0.1111111111111111,\"#000012\"],[0.2222222222222222,\"#000013\"],[0.3333333333333333,\"#000014\"],[0.4444444444444444,\"#000015\"],[0.5555555555555556,\"#000016\"],[0.6666666666666666,\"#000017\"],[0.7777777777777778,\"#000018\"],[0.8888888888888888,\"#000019\"],[1.0,\"#000020\"]],\"type\":\"contour\"}],\"heatmap\":[{\"colorscale\":[[0.0,\"#000011\"],[0.1111111111111111,\"#000012\"],[0.2222222222222222,\"#000013\"],[0.3333333333333333,\"#000014\"],[0.4444444444444444,\"#000015\"],[0.5555555555555556,\"#000016\"],[0.6666666666666666,\"#000017\"],[0.7777777777777778,\"#000018\"],[0.8888888888888888,\"#000019\"],[1.0,\"#000020\"]],\"type\":\"heatmap\"}],\"histogram2d\":[{\"colorscale\":[[0.0,\"#000011\"],[0.1111111111111111,\"#000012\"],[0.2222222222222222,\"#000013\"],[0.3333333333333333,\"#000014\"],[0.4444444444444444,\"#000015\"],[0.5555555555555556,\"#000016\"],[0.6666666666666666,\"#000017\"],[0.7777777777777778,\"#000018\"],[0.8888888888888888,\"#000019\"],[1.0,\"#000020\"]],\"type\":\"histogram2d\"}],\"icicle\":[{\"textfont\":{\"color\":\"white\"},\"type\":\"icicle\"}],\"sankey\":[{\"textfont\":{\"color\":\"#000036\"},\"type\":\"sankey\"}],\"scatter\":[{\"marker\":{\"line\":{\"width\":0}},\"type\":\"scatter\"}],\"table\":[{\"cells\":{\"fill\":{\"color\":\"#000038\"},\"font\":{\"color\":\"#000037\"},\"line\":{\"color\":\"#000039\"}},\"header\":{\"fill\":{\"color\":\"#000040\"},\"font\":{\"color\":\"#000036\"},\"line\":{\"color\":\"#000039\"}},\"type\":\"table\"}],\"waterfall\":[{\"connector\":{\"line\":{\"color\":\"#000036\",\"width\":2}},\"decreasing\":{\"marker\":{\"color\":\"#000033\"}},\"increasing\":{\"marker\":{\"color\":\"#000032\"}},\"totals\":{\"marker\":{\"color\":\"#000034\"}},\"type\":\"waterfall\"}]},\"layout\":{\"coloraxis\":{\"colorscale\":[[0.0,\"#000011\"],[0.1111111111111111,\"#000012\"],[0.2222222222222222,\"#000013\"],[0.3333333333333333,\"#000014\"],[0.4444444444444444,\"#000015\"],[0.5555555555555556,\"#000016\"],[0.6666666666666666,\"#000017\"],[0.7777777777777778,\"#000018\"],[0.8888888888888888,\"#000019\"],[1.0,\"#000020\"]]},\"colorscale\":{\"diverging\":[[0.0,\"#000021\"],[0.1,\"#000022\"],[0.2,\"#000023\"],[0.3,\"#000024\"],[0.4,\"#000025\"],[0.5,\"#000026\"],[0.6,\"#000027\"],[0.7,\"#000028\"],[0.8,\"#000029\"],[0.9,\"#000030\"],[1.0,\"#000031\"]],\"sequential\":[[0.0,\"#000011\"],[0.1111111111111111,\"#000012\"],[0.2222222222222222,\"#000013\"],[0.3333333333333333,\"#000014\"],[0.4444444444444444,\"#000015\"],[0.5555555555555556,\"#000016\"],[0.6666666666666666,\"#000017\"],[0.7777777777777778,\"#000018\"],[0.8888888888888888,\"#000019\"],[1.0,\"#000020\"]],\"sequentialminus\":[[0.0,\"#000011\"],[0.1111111111111111,\"#000012\"],[0.2222222222222222,\"#000013\"],[0.3333333333333333,\"#000014\"],[0.4444444444444444,\"#000015\"],[0.5555555555555556,\"#000016\"],[0.6666666666666666,\"#000017\"],[0.7777777777777778,\"#000018\"],[0.8888888888888888,\"#000019\"],[1.0,\"#000020\"]]},\"colorway\":[\"#000001\",\"#000002\",\"#000003\",\"#000004\",\"#000005\",\"#000006\",\"#000007\",\"#000008\",\"#000009\",\"#000010\"]}},\"xaxis\":{\"anchor\":\"y\",\"domain\":[0.0,1.0],\"title\":{\"text\":\"x\"},\"visible\":false},\"yaxis\":{\"anchor\":\"x\",\"domain\":[0.0,1.0],\"title\":{\"text\":\"y\"},\"visible\":false},\"legend\":{\"tracegroupgap\":0},\"margin\":{\"t\":0,\"l\":0,\"r\":0,\"b\":0},\"barmode\":\"relative\",\"shapes\":[{\"fillcolor\":\"gold\",\"line\":{\"color\":\"black\"},\"type\":\"rect\",\"x0\":-0.2,\"x1\":0.2,\"y0\":0,\"y1\":0.48},{\"fillcolor\":\"white\",\"line\":{\"color\":\"black\"},\"type\":\"rect\",\"x0\":-0.2,\"x1\":0.2,\"y0\":0.48,\"y1\":0.8},{\"fillcolor\":\"black\",\"line\":{\"color\":\"black\"},\"type\":\"rect\",\"x0\":-0.14,\"x1\":0.14,\"y0\":0.8,\"y1\":1.2}],\"showlegend\":false,\"height\":100,\"width\":100},                        {\"responsive\": true}                    ).then(function(){\n",
       "                            \n",
       "var gd = document.getElementById('c472118b-e444-46f3-ba7b-030cd63e784b');\n",
       "var x = new MutationObserver(function (mutations, observer) {{\n",
       "        var display = window.getComputedStyle(gd).display;\n",
       "        if (!display || display === 'none') {{\n",
       "            console.log([gd, 'removed!']);\n",
       "            Plotly.purge(gd);\n",
       "            observer.disconnect();\n",
       "        }}\n",
       "}});\n",
       "\n",
       "// Listen for the removal of the full notebook cells\n",
       "var notebookContainer = gd.closest('#notebook-container');\n",
       "if (notebookContainer) {{\n",
       "    x.observe(notebookContainer, {childList: true});\n",
       "}}\n",
       "\n",
       "// Listen for the clearing of the current output cell\n",
       "var outputEl = gd.closest('.output');\n",
       "if (outputEl) {{\n",
       "    x.observe(outputEl, {childList: true});\n",
       "}}\n",
       "\n",
       "                        })                };                });            </script>        </div>"
      ]
     },
     "metadata": {},
     "output_type": "display_data"
    }
   ],
   "source": [
    "import plotly.express as px\n",
    "\n",
    "def plot_bottles(mL_left, mL_start):\n",
    "    # Percentage (replace this with your actual percentage value)\n",
    "    percentage_filled = mL_left / mL_start\n",
    "    \n",
    "    # size factor: if it's a 10 mL bottle, normal size. goes up from there\n",
    "    # change this later to break out per bottle or backup. lol\n",
    "    size_fac = 1\n",
    "    size_facy = 1\n",
    "\n",
    "\n",
    "    # Create a bar plot\n",
    "    fig = px.bar(\n",
    "        x=[0],\n",
    "        y=[0])\n",
    "\n",
    "      # Add bottom rectangle (upright) filled gold\n",
    "    fig.add_shape(\n",
    "        type=\"rect\",\n",
    "        x0=-0.2*size_fac,\n",
    "        y0=0,\n",
    "        x1=0.2*size_fac,\n",
    "        y1=0.8*percentage_filled*size_facy,\n",
    "        fillcolor=\"gold\",\n",
    "        line=dict(color=\"black\")\n",
    "    )\n",
    "\n",
    "    # Add bottom rectangle (upright) empty white\n",
    "    fig.add_shape(\n",
    "        type=\"rect\",\n",
    "        x0=-0.2*size_fac,\n",
    "        y0=0.8*percentage_filled*size_facy,\n",
    "        x1=0.2*size_fac,\n",
    "        y1=0.8*size_facy,\n",
    "        fillcolor=\"white\",\n",
    "        line=dict(color=\"black\"),\n",
    "    )\n",
    "    # Add top rectangle (lying flat), black cap\n",
    "    fig.add_shape(\n",
    "        type=\"rect\",\n",
    "        x0=-0.14 * size_fac,\n",
    "        y0=0.8 * size_facy,\n",
    "        x1=0.14 * size_fac,\n",
    "        y1=1.2 * size_facy,\n",
    "        fillcolor=\"black\",\n",
    "        line=dict(color=\"black\"),\n",
    "    )\n",
    "\n",
    "    # Set layout properties\n",
    "    fig.update_layout(\n",
    "        showlegend=False,\n",
    "        xaxis=dict(visible=False),\n",
    "        yaxis=dict(visible=False),\n",
    "        margin=dict(l=0, r=0, t=0, b=0),\n",
    "        height=mL_start*2,\n",
    "        width=mL_start*2\n",
    "    )\n",
    "\n",
    "    return fig\n",
    "\n",
    "# Example usage\n",
    "fig = plot_bottles(30, 50)\n",
    "fig.show()\n"
   ]
  },
  {
   "cell_type": "code",
   "execution_count": 153,
   "metadata": {},
   "outputs": [
    {
     "data": {
      "application/vnd.plotly.v1+json": {
       "config": {
        "plotlyServerURL": "https://plot.ly"
       },
       "data": [
        {
         "alignmentgroup": "True",
         "hovertemplate": "x=%{x}<br>y=%{y}<extra></extra>",
         "legendgroup": "",
         "marker": {
          "color": "#000001",
          "pattern": {
           "shape": ""
          }
         },
         "name": "",
         "offsetgroup": "",
         "orientation": "v",
         "showlegend": false,
         "textposition": "auto",
         "type": "bar",
         "x": [
          0
         ],
         "xaxis": "x",
         "y": [
          0
         ],
         "yaxis": "y"
        }
       ],
       "layout": {
        "barmode": "relative",
        "height": 500,
        "legend": {
         "tracegroupgap": 0
        },
        "margin": {
         "b": 0,
         "l": 0,
         "r": 0,
         "t": 0
        },
        "shapes": [
         {
          "fillcolor": "gold",
          "line": {
           "color": "black"
          },
          "type": "rect",
          "x0": -0.2,
          "x1": 0.2,
          "y0": 0,
          "y1": 0.48
         },
         {
          "fillcolor": "white",
          "line": {
           "color": "black"
          },
          "type": "rect",
          "x0": -0.2,
          "x1": 0.2,
          "y0": 0.48,
          "y1": 0.8
         },
         {
          "fillcolor": "black",
          "line": {
           "color": "black"
          },
          "type": "rect",
          "x0": -0.14,
          "x1": 0.14,
          "y0": 0.8,
          "y1": 1.2
         }
        ],
        "showlegend": false,
        "template": {
         "data": {
          "candlestick": [
           {
            "decreasing": {
             "line": {
              "color": "#000033"
             }
            },
            "increasing": {
             "line": {
              "color": "#000032"
             }
            },
            "type": "candlestick"
           }
          ],
          "contour": [
           {
            "colorscale": [
             [
              0,
              "#000011"
             ],
             [
              0.1111111111111111,
              "#000012"
             ],
             [
              0.2222222222222222,
              "#000013"
             ],
             [
              0.3333333333333333,
              "#000014"
             ],
             [
              0.4444444444444444,
              "#000015"
             ],
             [
              0.5555555555555556,
              "#000016"
             ],
             [
              0.6666666666666666,
              "#000017"
             ],
             [
              0.7777777777777778,
              "#000018"
             ],
             [
              0.8888888888888888,
              "#000019"
             ],
             [
              1,
              "#000020"
             ]
            ],
            "type": "contour"
           }
          ],
          "contourcarpet": [
           {
            "colorscale": [
             [
              0,
              "#000011"
             ],
             [
              0.1111111111111111,
              "#000012"
             ],
             [
              0.2222222222222222,
              "#000013"
             ],
             [
              0.3333333333333333,
              "#000014"
             ],
             [
              0.4444444444444444,
              "#000015"
             ],
             [
              0.5555555555555556,
              "#000016"
             ],
             [
              0.6666666666666666,
              "#000017"
             ],
             [
              0.7777777777777778,
              "#000018"
             ],
             [
              0.8888888888888888,
              "#000019"
             ],
             [
              1,
              "#000020"
             ]
            ],
            "type": "contourcarpet"
           }
          ],
          "heatmap": [
           {
            "colorscale": [
             [
              0,
              "#000011"
             ],
             [
              0.1111111111111111,
              "#000012"
             ],
             [
              0.2222222222222222,
              "#000013"
             ],
             [
              0.3333333333333333,
              "#000014"
             ],
             [
              0.4444444444444444,
              "#000015"
             ],
             [
              0.5555555555555556,
              "#000016"
             ],
             [
              0.6666666666666666,
              "#000017"
             ],
             [
              0.7777777777777778,
              "#000018"
             ],
             [
              0.8888888888888888,
              "#000019"
             ],
             [
              1,
              "#000020"
             ]
            ],
            "type": "heatmap"
           }
          ],
          "histogram2d": [
           {
            "colorscale": [
             [
              0,
              "#000011"
             ],
             [
              0.1111111111111111,
              "#000012"
             ],
             [
              0.2222222222222222,
              "#000013"
             ],
             [
              0.3333333333333333,
              "#000014"
             ],
             [
              0.4444444444444444,
              "#000015"
             ],
             [
              0.5555555555555556,
              "#000016"
             ],
             [
              0.6666666666666666,
              "#000017"
             ],
             [
              0.7777777777777778,
              "#000018"
             ],
             [
              0.8888888888888888,
              "#000019"
             ],
             [
              1,
              "#000020"
             ]
            ],
            "type": "histogram2d"
           }
          ],
          "icicle": [
           {
            "textfont": {
             "color": "white"
            },
            "type": "icicle"
           }
          ],
          "sankey": [
           {
            "textfont": {
             "color": "#000036"
            },
            "type": "sankey"
           }
          ],
          "scatter": [
           {
            "marker": {
             "line": {
              "width": 0
             }
            },
            "type": "scatter"
           }
          ],
          "table": [
           {
            "cells": {
             "fill": {
              "color": "#000038"
             },
             "font": {
              "color": "#000037"
             },
             "line": {
              "color": "#000039"
             }
            },
            "header": {
             "fill": {
              "color": "#000040"
             },
             "font": {
              "color": "#000036"
             },
             "line": {
              "color": "#000039"
             }
            },
            "type": "table"
           }
          ],
          "waterfall": [
           {
            "connector": {
             "line": {
              "color": "#000036",
              "width": 2
             }
            },
            "decreasing": {
             "marker": {
              "color": "#000033"
             }
            },
            "increasing": {
             "marker": {
              "color": "#000032"
             }
            },
            "totals": {
             "marker": {
              "color": "#000034"
             }
            },
            "type": "waterfall"
           }
          ]
         },
         "layout": {
          "coloraxis": {
           "colorscale": [
            [
             0,
             "#000011"
            ],
            [
             0.1111111111111111,
             "#000012"
            ],
            [
             0.2222222222222222,
             "#000013"
            ],
            [
             0.3333333333333333,
             "#000014"
            ],
            [
             0.4444444444444444,
             "#000015"
            ],
            [
             0.5555555555555556,
             "#000016"
            ],
            [
             0.6666666666666666,
             "#000017"
            ],
            [
             0.7777777777777778,
             "#000018"
            ],
            [
             0.8888888888888888,
             "#000019"
            ],
            [
             1,
             "#000020"
            ]
           ]
          },
          "colorscale": {
           "diverging": [
            [
             0,
             "#000021"
            ],
            [
             0.1,
             "#000022"
            ],
            [
             0.2,
             "#000023"
            ],
            [
             0.3,
             "#000024"
            ],
            [
             0.4,
             "#000025"
            ],
            [
             0.5,
             "#000026"
            ],
            [
             0.6,
             "#000027"
            ],
            [
             0.7,
             "#000028"
            ],
            [
             0.8,
             "#000029"
            ],
            [
             0.9,
             "#000030"
            ],
            [
             1,
             "#000031"
            ]
           ],
           "sequential": [
            [
             0,
             "#000011"
            ],
            [
             0.1111111111111111,
             "#000012"
            ],
            [
             0.2222222222222222,
             "#000013"
            ],
            [
             0.3333333333333333,
             "#000014"
            ],
            [
             0.4444444444444444,
             "#000015"
            ],
            [
             0.5555555555555556,
             "#000016"
            ],
            [
             0.6666666666666666,
             "#000017"
            ],
            [
             0.7777777777777778,
             "#000018"
            ],
            [
             0.8888888888888888,
             "#000019"
            ],
            [
             1,
             "#000020"
            ]
           ],
           "sequentialminus": [
            [
             0,
             "#000011"
            ],
            [
             0.1111111111111111,
             "#000012"
            ],
            [
             0.2222222222222222,
             "#000013"
            ],
            [
             0.3333333333333333,
             "#000014"
            ],
            [
             0.4444444444444444,
             "#000015"
            ],
            [
             0.5555555555555556,
             "#000016"
            ],
            [
             0.6666666666666666,
             "#000017"
            ],
            [
             0.7777777777777778,
             "#000018"
            ],
            [
             0.8888888888888888,
             "#000019"
            ],
            [
             1,
             "#000020"
            ]
           ]
          },
          "colorway": [
           "#000001",
           "#000002",
           "#000003",
           "#000004",
           "#000005",
           "#000006",
           "#000007",
           "#000008",
           "#000009",
           "#000010"
          ]
         }
        },
        "width": 500,
        "xaxis": {
         "anchor": "y",
         "domain": [
          0,
          1
         ],
         "title": {
          "text": "x"
         },
         "visible": false
        },
        "yaxis": {
         "anchor": "x",
         "domain": [
          0,
          1
         ],
         "title": {
          "text": "y"
         },
         "visible": false
        }
       }
      },
      "text/html": [
       "<div>                            <div id=\"9c966a3c-ef2b-41de-8412-f96b0533b7d3\" class=\"plotly-graph-div\" style=\"height:500px; width:500px;\"></div>            <script type=\"text/javascript\">                require([\"plotly\"], function(Plotly) {                    window.PLOTLYENV=window.PLOTLYENV || {};                                    if (document.getElementById(\"9c966a3c-ef2b-41de-8412-f96b0533b7d3\")) {                    Plotly.newPlot(                        \"9c966a3c-ef2b-41de-8412-f96b0533b7d3\",                        [{\"alignmentgroup\":\"True\",\"hovertemplate\":\"x=%{x}\\u003cbr\\u003ey=%{y}\\u003cextra\\u003e\\u003c\\u002fextra\\u003e\",\"legendgroup\":\"\",\"marker\":{\"color\":\"#000001\",\"pattern\":{\"shape\":\"\"}},\"name\":\"\",\"offsetgroup\":\"\",\"orientation\":\"v\",\"showlegend\":false,\"textposition\":\"auto\",\"x\":[0],\"xaxis\":\"x\",\"y\":[0],\"yaxis\":\"y\",\"type\":\"bar\"}],                        {\"template\":{\"data\":{\"candlestick\":[{\"decreasing\":{\"line\":{\"color\":\"#000033\"}},\"increasing\":{\"line\":{\"color\":\"#000032\"}},\"type\":\"candlestick\"}],\"contourcarpet\":[{\"colorscale\":[[0.0,\"#000011\"],[0.1111111111111111,\"#000012\"],[0.2222222222222222,\"#000013\"],[0.3333333333333333,\"#000014\"],[0.4444444444444444,\"#000015\"],[0.5555555555555556,\"#000016\"],[0.6666666666666666,\"#000017\"],[0.7777777777777778,\"#000018\"],[0.8888888888888888,\"#000019\"],[1.0,\"#000020\"]],\"type\":\"contourcarpet\"}],\"contour\":[{\"colorscale\":[[0.0,\"#000011\"],[0.1111111111111111,\"#000012\"],[0.2222222222222222,\"#000013\"],[0.3333333333333333,\"#000014\"],[0.4444444444444444,\"#000015\"],[0.5555555555555556,\"#000016\"],[0.6666666666666666,\"#000017\"],[0.7777777777777778,\"#000018\"],[0.8888888888888888,\"#000019\"],[1.0,\"#000020\"]],\"type\":\"contour\"}],\"heatmap\":[{\"colorscale\":[[0.0,\"#000011\"],[0.1111111111111111,\"#000012\"],[0.2222222222222222,\"#000013\"],[0.3333333333333333,\"#000014\"],[0.4444444444444444,\"#000015\"],[0.5555555555555556,\"#000016\"],[0.6666666666666666,\"#000017\"],[0.7777777777777778,\"#000018\"],[0.8888888888888888,\"#000019\"],[1.0,\"#000020\"]],\"type\":\"heatmap\"}],\"histogram2d\":[{\"colorscale\":[[0.0,\"#000011\"],[0.1111111111111111,\"#000012\"],[0.2222222222222222,\"#000013\"],[0.3333333333333333,\"#000014\"],[0.4444444444444444,\"#000015\"],[0.5555555555555556,\"#000016\"],[0.6666666666666666,\"#000017\"],[0.7777777777777778,\"#000018\"],[0.8888888888888888,\"#000019\"],[1.0,\"#000020\"]],\"type\":\"histogram2d\"}],\"icicle\":[{\"textfont\":{\"color\":\"white\"},\"type\":\"icicle\"}],\"sankey\":[{\"textfont\":{\"color\":\"#000036\"},\"type\":\"sankey\"}],\"scatter\":[{\"marker\":{\"line\":{\"width\":0}},\"type\":\"scatter\"}],\"table\":[{\"cells\":{\"fill\":{\"color\":\"#000038\"},\"font\":{\"color\":\"#000037\"},\"line\":{\"color\":\"#000039\"}},\"header\":{\"fill\":{\"color\":\"#000040\"},\"font\":{\"color\":\"#000036\"},\"line\":{\"color\":\"#000039\"}},\"type\":\"table\"}],\"waterfall\":[{\"connector\":{\"line\":{\"color\":\"#000036\",\"width\":2}},\"decreasing\":{\"marker\":{\"color\":\"#000033\"}},\"increasing\":{\"marker\":{\"color\":\"#000032\"}},\"totals\":{\"marker\":{\"color\":\"#000034\"}},\"type\":\"waterfall\"}]},\"layout\":{\"coloraxis\":{\"colorscale\":[[0.0,\"#000011\"],[0.1111111111111111,\"#000012\"],[0.2222222222222222,\"#000013\"],[0.3333333333333333,\"#000014\"],[0.4444444444444444,\"#000015\"],[0.5555555555555556,\"#000016\"],[0.6666666666666666,\"#000017\"],[0.7777777777777778,\"#000018\"],[0.8888888888888888,\"#000019\"],[1.0,\"#000020\"]]},\"colorscale\":{\"diverging\":[[0.0,\"#000021\"],[0.1,\"#000022\"],[0.2,\"#000023\"],[0.3,\"#000024\"],[0.4,\"#000025\"],[0.5,\"#000026\"],[0.6,\"#000027\"],[0.7,\"#000028\"],[0.8,\"#000029\"],[0.9,\"#000030\"],[1.0,\"#000031\"]],\"sequential\":[[0.0,\"#000011\"],[0.1111111111111111,\"#000012\"],[0.2222222222222222,\"#000013\"],[0.3333333333333333,\"#000014\"],[0.4444444444444444,\"#000015\"],[0.5555555555555556,\"#000016\"],[0.6666666666666666,\"#000017\"],[0.7777777777777778,\"#000018\"],[0.8888888888888888,\"#000019\"],[1.0,\"#000020\"]],\"sequentialminus\":[[0.0,\"#000011\"],[0.1111111111111111,\"#000012\"],[0.2222222222222222,\"#000013\"],[0.3333333333333333,\"#000014\"],[0.4444444444444444,\"#000015\"],[0.5555555555555556,\"#000016\"],[0.6666666666666666,\"#000017\"],[0.7777777777777778,\"#000018\"],[0.8888888888888888,\"#000019\"],[1.0,\"#000020\"]]},\"colorway\":[\"#000001\",\"#000002\",\"#000003\",\"#000004\",\"#000005\",\"#000006\",\"#000007\",\"#000008\",\"#000009\",\"#000010\"]}},\"xaxis\":{\"anchor\":\"y\",\"domain\":[0.0,1.0],\"title\":{\"text\":\"x\"},\"visible\":false},\"yaxis\":{\"anchor\":\"x\",\"domain\":[0.0,1.0],\"title\":{\"text\":\"y\"},\"visible\":false},\"legend\":{\"tracegroupgap\":0},\"margin\":{\"t\":0,\"l\":0,\"r\":0,\"b\":0},\"barmode\":\"relative\",\"shapes\":[{\"fillcolor\":\"gold\",\"line\":{\"color\":\"black\"},\"type\":\"rect\",\"x0\":-0.2,\"x1\":0.2,\"y0\":0,\"y1\":0.48},{\"fillcolor\":\"white\",\"line\":{\"color\":\"black\"},\"type\":\"rect\",\"x0\":-0.2,\"x1\":0.2,\"y0\":0.48,\"y1\":0.8},{\"fillcolor\":\"black\",\"line\":{\"color\":\"black\"},\"type\":\"rect\",\"x0\":-0.14,\"x1\":0.14,\"y0\":0.8,\"y1\":1.2}],\"showlegend\":false,\"height\":500,\"width\":500},                        {\"responsive\": true}                    ).then(function(){\n",
       "                            \n",
       "var gd = document.getElementById('9c966a3c-ef2b-41de-8412-f96b0533b7d3');\n",
       "var x = new MutationObserver(function (mutations, observer) {{\n",
       "        var display = window.getComputedStyle(gd).display;\n",
       "        if (!display || display === 'none') {{\n",
       "            console.log([gd, 'removed!']);\n",
       "            Plotly.purge(gd);\n",
       "            observer.disconnect();\n",
       "        }}\n",
       "}});\n",
       "\n",
       "// Listen for the removal of the full notebook cells\n",
       "var notebookContainer = gd.closest('#notebook-container');\n",
       "if (notebookContainer) {{\n",
       "    x.observe(notebookContainer, {childList: true});\n",
       "}}\n",
       "\n",
       "// Listen for the clearing of the current output cell\n",
       "var outputEl = gd.closest('.output');\n",
       "if (outputEl) {{\n",
       "    x.observe(outputEl, {childList: true});\n",
       "}}\n",
       "\n",
       "                        })                };                });            </script>        </div>"
      ]
     },
     "metadata": {},
     "output_type": "display_data"
    }
   ],
   "source": [
    "plot_bottles(150,250)"
   ]
  },
  {
   "cell_type": "code",
   "execution_count": 19,
   "metadata": {},
   "outputs": [
    {
     "data": {
      "application/vnd.plotly.v1+json": {
       "config": {
        "plotlyServerURL": "https://plot.ly"
       },
       "data": [],
       "layout": {
        "shapes": [
         {
          "fillcolor": "white",
          "line": {
           "color": "black"
          },
          "type": "rect",
          "x0": -0.2,
          "x1": 0.2,
          "y0": 0.5599999999999999,
          "y1": 0.8
         },
         {
          "fillcolor": "gold",
          "line": {
           "color": "black"
          },
          "type": "rect",
          "x0": -0.2,
          "x1": 0.2,
          "y0": 0,
          "y1": 0.5599999999999999
         },
         {
          "fillcolor": "black",
          "line": {
           "color": "black"
          },
          "type": "rect",
          "x0": -0.14,
          "x1": 0.14,
          "y0": 0.8,
          "y1": 1.2
         }
        ],
        "showlegend": false,
        "template": {
         "data": {
          "candlestick": [
           {
            "decreasing": {
             "line": {
              "color": "#000033"
             }
            },
            "increasing": {
             "line": {
              "color": "#000032"
             }
            },
            "type": "candlestick"
           }
          ],
          "contour": [
           {
            "colorscale": [
             [
              0,
              "#000011"
             ],
             [
              0.1111111111111111,
              "#000012"
             ],
             [
              0.2222222222222222,
              "#000013"
             ],
             [
              0.3333333333333333,
              "#000014"
             ],
             [
              0.4444444444444444,
              "#000015"
             ],
             [
              0.5555555555555556,
              "#000016"
             ],
             [
              0.6666666666666666,
              "#000017"
             ],
             [
              0.7777777777777778,
              "#000018"
             ],
             [
              0.8888888888888888,
              "#000019"
             ],
             [
              1,
              "#000020"
             ]
            ],
            "type": "contour"
           }
          ],
          "contourcarpet": [
           {
            "colorscale": [
             [
              0,
              "#000011"
             ],
             [
              0.1111111111111111,
              "#000012"
             ],
             [
              0.2222222222222222,
              "#000013"
             ],
             [
              0.3333333333333333,
              "#000014"
             ],
             [
              0.4444444444444444,
              "#000015"
             ],
             [
              0.5555555555555556,
              "#000016"
             ],
             [
              0.6666666666666666,
              "#000017"
             ],
             [
              0.7777777777777778,
              "#000018"
             ],
             [
              0.8888888888888888,
              "#000019"
             ],
             [
              1,
              "#000020"
             ]
            ],
            "type": "contourcarpet"
           }
          ],
          "heatmap": [
           {
            "colorscale": [
             [
              0,
              "#000011"
             ],
             [
              0.1111111111111111,
              "#000012"
             ],
             [
              0.2222222222222222,
              "#000013"
             ],
             [
              0.3333333333333333,
              "#000014"
             ],
             [
              0.4444444444444444,
              "#000015"
             ],
             [
              0.5555555555555556,
              "#000016"
             ],
             [
              0.6666666666666666,
              "#000017"
             ],
             [
              0.7777777777777778,
              "#000018"
             ],
             [
              0.8888888888888888,
              "#000019"
             ],
             [
              1,
              "#000020"
             ]
            ],
            "type": "heatmap"
           }
          ],
          "histogram2d": [
           {
            "colorscale": [
             [
              0,
              "#000011"
             ],
             [
              0.1111111111111111,
              "#000012"
             ],
             [
              0.2222222222222222,
              "#000013"
             ],
             [
              0.3333333333333333,
              "#000014"
             ],
             [
              0.4444444444444444,
              "#000015"
             ],
             [
              0.5555555555555556,
              "#000016"
             ],
             [
              0.6666666666666666,
              "#000017"
             ],
             [
              0.7777777777777778,
              "#000018"
             ],
             [
              0.8888888888888888,
              "#000019"
             ],
             [
              1,
              "#000020"
             ]
            ],
            "type": "histogram2d"
           }
          ],
          "icicle": [
           {
            "textfont": {
             "color": "white"
            },
            "type": "icicle"
           }
          ],
          "sankey": [
           {
            "textfont": {
             "color": "#000036"
            },
            "type": "sankey"
           }
          ],
          "scatter": [
           {
            "marker": {
             "line": {
              "width": 0
             }
            },
            "type": "scatter"
           }
          ],
          "table": [
           {
            "cells": {
             "fill": {
              "color": "#000038"
             },
             "font": {
              "color": "#000037"
             },
             "line": {
              "color": "#000039"
             }
            },
            "header": {
             "fill": {
              "color": "#000040"
             },
             "font": {
              "color": "#000036"
             },
             "line": {
              "color": "#000039"
             }
            },
            "type": "table"
           }
          ],
          "waterfall": [
           {
            "connector": {
             "line": {
              "color": "#000036",
              "width": 2
             }
            },
            "decreasing": {
             "marker": {
              "color": "#000033"
             }
            },
            "increasing": {
             "marker": {
              "color": "#000032"
             }
            },
            "totals": {
             "marker": {
              "color": "#000034"
             }
            },
            "type": "waterfall"
           }
          ]
         },
         "layout": {
          "coloraxis": {
           "colorscale": [
            [
             0,
             "#000011"
            ],
            [
             0.1111111111111111,
             "#000012"
            ],
            [
             0.2222222222222222,
             "#000013"
            ],
            [
             0.3333333333333333,
             "#000014"
            ],
            [
             0.4444444444444444,
             "#000015"
            ],
            [
             0.5555555555555556,
             "#000016"
            ],
            [
             0.6666666666666666,
             "#000017"
            ],
            [
             0.7777777777777778,
             "#000018"
            ],
            [
             0.8888888888888888,
             "#000019"
            ],
            [
             1,
             "#000020"
            ]
           ]
          },
          "colorscale": {
           "diverging": [
            [
             0,
             "#000021"
            ],
            [
             0.1,
             "#000022"
            ],
            [
             0.2,
             "#000023"
            ],
            [
             0.3,
             "#000024"
            ],
            [
             0.4,
             "#000025"
            ],
            [
             0.5,
             "#000026"
            ],
            [
             0.6,
             "#000027"
            ],
            [
             0.7,
             "#000028"
            ],
            [
             0.8,
             "#000029"
            ],
            [
             0.9,
             "#000030"
            ],
            [
             1,
             "#000031"
            ]
           ],
           "sequential": [
            [
             0,
             "#000011"
            ],
            [
             0.1111111111111111,
             "#000012"
            ],
            [
             0.2222222222222222,
             "#000013"
            ],
            [
             0.3333333333333333,
             "#000014"
            ],
            [
             0.4444444444444444,
             "#000015"
            ],
            [
             0.5555555555555556,
             "#000016"
            ],
            [
             0.6666666666666666,
             "#000017"
            ],
            [
             0.7777777777777778,
             "#000018"
            ],
            [
             0.8888888888888888,
             "#000019"
            ],
            [
             1,
             "#000020"
            ]
           ],
           "sequentialminus": [
            [
             0,
             "#000011"
            ],
            [
             0.1111111111111111,
             "#000012"
            ],
            [
             0.2222222222222222,
             "#000013"
            ],
            [
             0.3333333333333333,
             "#000014"
            ],
            [
             0.4444444444444444,
             "#000015"
            ],
            [
             0.5555555555555556,
             "#000016"
            ],
            [
             0.6666666666666666,
             "#000017"
            ],
            [
             0.7777777777777778,
             "#000018"
            ],
            [
             0.8888888888888888,
             "#000019"
            ],
            [
             1,
             "#000020"
            ]
           ]
          },
          "colorway": [
           "#000001",
           "#000002",
           "#000003",
           "#000004",
           "#000005",
           "#000006",
           "#000007",
           "#000008",
           "#000009",
           "#000010"
          ]
         }
        },
        "xaxis": {
         "visible": false
        },
        "yaxis": {
         "visible": false
        }
       }
      },
      "text/html": [
       "<div>                            <div id=\"0688b518-bca5-4e32-a126-ed69783ddd89\" class=\"plotly-graph-div\" style=\"height:525px; width:100%;\"></div>            <script type=\"text/javascript\">                require([\"plotly\"], function(Plotly) {                    window.PLOTLYENV=window.PLOTLYENV || {};                                    if (document.getElementById(\"0688b518-bca5-4e32-a126-ed69783ddd89\")) {                    Plotly.newPlot(                        \"0688b518-bca5-4e32-a126-ed69783ddd89\",                        [],                        {\"template\":{\"data\":{\"candlestick\":[{\"decreasing\":{\"line\":{\"color\":\"#000033\"}},\"increasing\":{\"line\":{\"color\":\"#000032\"}},\"type\":\"candlestick\"}],\"contourcarpet\":[{\"colorscale\":[[0.0,\"#000011\"],[0.1111111111111111,\"#000012\"],[0.2222222222222222,\"#000013\"],[0.3333333333333333,\"#000014\"],[0.4444444444444444,\"#000015\"],[0.5555555555555556,\"#000016\"],[0.6666666666666666,\"#000017\"],[0.7777777777777778,\"#000018\"],[0.8888888888888888,\"#000019\"],[1.0,\"#000020\"]],\"type\":\"contourcarpet\"}],\"contour\":[{\"colorscale\":[[0.0,\"#000011\"],[0.1111111111111111,\"#000012\"],[0.2222222222222222,\"#000013\"],[0.3333333333333333,\"#000014\"],[0.4444444444444444,\"#000015\"],[0.5555555555555556,\"#000016\"],[0.6666666666666666,\"#000017\"],[0.7777777777777778,\"#000018\"],[0.8888888888888888,\"#000019\"],[1.0,\"#000020\"]],\"type\":\"contour\"}],\"heatmap\":[{\"colorscale\":[[0.0,\"#000011\"],[0.1111111111111111,\"#000012\"],[0.2222222222222222,\"#000013\"],[0.3333333333333333,\"#000014\"],[0.4444444444444444,\"#000015\"],[0.5555555555555556,\"#000016\"],[0.6666666666666666,\"#000017\"],[0.7777777777777778,\"#000018\"],[0.8888888888888888,\"#000019\"],[1.0,\"#000020\"]],\"type\":\"heatmap\"}],\"histogram2d\":[{\"colorscale\":[[0.0,\"#000011\"],[0.1111111111111111,\"#000012\"],[0.2222222222222222,\"#000013\"],[0.3333333333333333,\"#000014\"],[0.4444444444444444,\"#000015\"],[0.5555555555555556,\"#000016\"],[0.6666666666666666,\"#000017\"],[0.7777777777777778,\"#000018\"],[0.8888888888888888,\"#000019\"],[1.0,\"#000020\"]],\"type\":\"histogram2d\"}],\"icicle\":[{\"textfont\":{\"color\":\"white\"},\"type\":\"icicle\"}],\"sankey\":[{\"textfont\":{\"color\":\"#000036\"},\"type\":\"sankey\"}],\"scatter\":[{\"marker\":{\"line\":{\"width\":0}},\"type\":\"scatter\"}],\"table\":[{\"cells\":{\"fill\":{\"color\":\"#000038\"},\"font\":{\"color\":\"#000037\"},\"line\":{\"color\":\"#000039\"}},\"header\":{\"fill\":{\"color\":\"#000040\"},\"font\":{\"color\":\"#000036\"},\"line\":{\"color\":\"#000039\"}},\"type\":\"table\"}],\"waterfall\":[{\"connector\":{\"line\":{\"color\":\"#000036\",\"width\":2}},\"decreasing\":{\"marker\":{\"color\":\"#000033\"}},\"increasing\":{\"marker\":{\"color\":\"#000032\"}},\"totals\":{\"marker\":{\"color\":\"#000034\"}},\"type\":\"waterfall\"}]},\"layout\":{\"coloraxis\":{\"colorscale\":[[0.0,\"#000011\"],[0.1111111111111111,\"#000012\"],[0.2222222222222222,\"#000013\"],[0.3333333333333333,\"#000014\"],[0.4444444444444444,\"#000015\"],[0.5555555555555556,\"#000016\"],[0.6666666666666666,\"#000017\"],[0.7777777777777778,\"#000018\"],[0.8888888888888888,\"#000019\"],[1.0,\"#000020\"]]},\"colorscale\":{\"diverging\":[[0.0,\"#000021\"],[0.1,\"#000022\"],[0.2,\"#000023\"],[0.3,\"#000024\"],[0.4,\"#000025\"],[0.5,\"#000026\"],[0.6,\"#000027\"],[0.7,\"#000028\"],[0.8,\"#000029\"],[0.9,\"#000030\"],[1.0,\"#000031\"]],\"sequential\":[[0.0,\"#000011\"],[0.1111111111111111,\"#000012\"],[0.2222222222222222,\"#000013\"],[0.3333333333333333,\"#000014\"],[0.4444444444444444,\"#000015\"],[0.5555555555555556,\"#000016\"],[0.6666666666666666,\"#000017\"],[0.7777777777777778,\"#000018\"],[0.8888888888888888,\"#000019\"],[1.0,\"#000020\"]],\"sequentialminus\":[[0.0,\"#000011\"],[0.1111111111111111,\"#000012\"],[0.2222222222222222,\"#000013\"],[0.3333333333333333,\"#000014\"],[0.4444444444444444,\"#000015\"],[0.5555555555555556,\"#000016\"],[0.6666666666666666,\"#000017\"],[0.7777777777777778,\"#000018\"],[0.8888888888888888,\"#000019\"],[1.0,\"#000020\"]]},\"colorway\":[\"#000001\",\"#000002\",\"#000003\",\"#000004\",\"#000005\",\"#000006\",\"#000007\",\"#000008\",\"#000009\",\"#000010\"]}},\"shapes\":[{\"fillcolor\":\"white\",\"line\":{\"color\":\"black\"},\"type\":\"rect\",\"x0\":-0.2,\"x1\":0.2,\"y0\":0.5599999999999999,\"y1\":0.8},{\"fillcolor\":\"gold\",\"line\":{\"color\":\"black\"},\"type\":\"rect\",\"x0\":-0.2,\"x1\":0.2,\"y0\":0,\"y1\":0.5599999999999999},{\"fillcolor\":\"black\",\"line\":{\"color\":\"black\"},\"type\":\"rect\",\"x0\":-0.14,\"x1\":0.14,\"y0\":0.8,\"y1\":1.2}],\"xaxis\":{\"visible\":false},\"yaxis\":{\"visible\":false},\"showlegend\":false},                        {\"responsive\": true}                    ).then(function(){\n",
       "                            \n",
       "var gd = document.getElementById('0688b518-bca5-4e32-a126-ed69783ddd89');\n",
       "var x = new MutationObserver(function (mutations, observer) {{\n",
       "        var display = window.getComputedStyle(gd).display;\n",
       "        if (!display || display === 'none') {{\n",
       "            console.log([gd, 'removed!']);\n",
       "            Plotly.purge(gd);\n",
       "            observer.disconnect();\n",
       "        }}\n",
       "}});\n",
       "\n",
       "// Listen for the removal of the full notebook cells\n",
       "var notebookContainer = gd.closest('#notebook-container');\n",
       "if (notebookContainer) {{\n",
       "    x.observe(notebookContainer, {childList: true});\n",
       "}}\n",
       "\n",
       "// Listen for the clearing of the current output cell\n",
       "var outputEl = gd.closest('.output');\n",
       "if (outputEl) {{\n",
       "    x.observe(outputEl, {childList: true});\n",
       "}}\n",
       "\n",
       "                        })                };                });            </script>        </div>"
      ]
     },
     "metadata": {},
     "output_type": "display_data"
    }
   ],
   "source": [
    "\n",
    "# Percentage (replace this with your actual percentage value)\n",
    "percentage_filled =.7\n",
    "\n",
    "# Create figure\n",
    "fig = go.Figure()\n",
    "\n",
    "# Add bottom rectangle (upright) filled gold\n",
    "fig.add_shape(\n",
    "    type=\"rect\",\n",
    "    x0=-0.2,\n",
    "    y0=0,\n",
    "    x1=0.2,\n",
    "    y1=0.8*percentage_filled,\n",
    "    fillcolor=\"gold\",\n",
    "    line=dict(color=\"black\"),\n",
    ")\n",
    "\n",
    "# Add bottom rectangle (upright) empty white\n",
    "fig.add_shape(\n",
    "    type=\"rect\",\n",
    "    x0=-0.2,\n",
    "    y0=0.8*percentage_filled,\n",
    "    x1=0.2,\n",
    "    y1=0.8,\n",
    "    fillcolor=\"white\",\n",
    "    line=dict(color=\"black\"),\n",
    ")\n",
    "\n",
    "# Add top rectangle (lying flat), black cap\n",
    "fig.add_shape(\n",
    "    type=\"rect\",\n",
    "    x0=-0.15,\n",
    "    y0=0.8,\n",
    "    x1=0.15,\n",
    "    y1=1.2,\n",
    "    fillcolor=\"black\",\n",
    "    line=dict(color=\"black\"),\n",
    ")\n",
    "\n",
    "# Set layout properties\n",
    "fig.update_layout(\n",
    "    shapes=[\n",
    "        dict(\n",
    "            type=\"rect\",\n",
    "    x0=-0.2,\n",
    "    y0=0.8*percentage_filled,\n",
    "    x1=0.2,\n",
    "    y1=0.8,\n",
    "    fillcolor=\"white\",\n",
    "    line=dict(color=\"black\"),\n",
    "        ),\n",
    "        dict(\n",
    "            type=\"rect\",\n",
    "    x0=-0.2,\n",
    "    y0=0,\n",
    "    x1=0.2,\n",
    "    y1=0.8*percentage_filled,\n",
    "    fillcolor=\"gold\",\n",
    "    line=dict(color=\"black\"),\n",
    "        ),\n",
    "        dict(\n",
    "            type=\"rect\",\n",
    "            x0=-0.14,\n",
    "            y0=0.8,\n",
    "            x1=0.14,\n",
    "            y1=1.2,\n",
    "            fillcolor=\"black\",\n",
    "            line=dict(color=\"black\"),\n",
    "        ),\n",
    "    ],\n",
    "    showlegend=False,\n",
    "    xaxis=dict(visible=False),\n",
    "    yaxis=dict(visible=False),\n",
    ")\n",
    "\n",
    "\n",
    "\n",
    "# Show the figure\n",
    "fig.show()\n"
   ]
  },
  {
   "cell_type": "code",
   "execution_count": null,
   "metadata": {},
   "outputs": [],
   "source": [
    "# sandbox below"
   ]
  },
  {
   "cell_type": "code",
   "execution_count": 281,
   "metadata": {},
   "outputs": [],
   "source": [
    "from plotly.subplots import make_subplots\n",
    "\n",
    "def plotly_dual_axis(plot_df,title=\"\", y1=\"\", y2=\"\"):\n",
    "    # Create subplot with secondary axis\n",
    "    subplot_fig = make_subplots(specs=[[{\"secondary_y\": True}]])\n",
    "\n",
    "    #Put Dataframe in fig1 and fig2\n",
    "    fig1 = px.line(plot_df,\n",
    "        x=\"Years\",  # Use the DataFrame index as x-axis\n",
    "        y=\"Cumulative Wears\")\n",
    "    fig2 = px.line(plot_df,\n",
    "        x=\"Years\",  # Use the DataFrame index as x-axis\n",
    "        y=\"mL Remaining\")\n",
    "    #Change the axis for fig2\n",
    "    fig2.update_traces(yaxis=\"y2\")\n",
    "\n",
    "    #Add the figs to the subplot figure\n",
    "    subplot_fig.add_traces(fig1.data + fig2.data)\n",
    "\n",
    "    #FORMAT subplot figure\n",
    "    subplot_fig.update_layout(title=title, yaxis=dict(title=y1), yaxis2=dict(title=y2))\n",
    "\n",
    "    #RECOLOR so as not to have overlapping colors\n",
    "    subplot_fig.for_each_trace(lambda t: t.update(line=dict(color=t.marker.color)))\n",
    "\n",
    "\n",
    "    return subplot_fig"
   ]
  },
  {
   "cell_type": "code",
   "execution_count": 280,
   "metadata": {},
   "outputs": [
    {
     "ename": "TypeError",
     "evalue": "plotly_dual_axis() missing 1 required positional argument: 'plot_df'",
     "output_type": "error",
     "traceback": [
      "\u001b[0;31m---------------------------------------------------------------------------\u001b[0m",
      "\u001b[0;31mTypeError\u001b[0m                                 Traceback (most recent call last)",
      "\u001b[0;32m<ipython-input-280-ad7c0796aefa>\u001b[0m in \u001b[0;36m<module>\u001b[0;34m\u001b[0m\n\u001b[0;32m----> 1\u001b[0;31m \u001b[0mplotly_dual_axis\u001b[0m\u001b[0;34m(\u001b[0m\u001b[0;34m)\u001b[0m\u001b[0;34m\u001b[0m\u001b[0;34m\u001b[0m\u001b[0m\n\u001b[0m",
      "\u001b[0;31mTypeError\u001b[0m: plotly_dual_axis() missing 1 required positional argument: 'plot_df'"
     ]
    }
   ],
   "source": [
    "plotly_dual_axis()"
   ]
  },
  {
   "cell_type": "code",
   "execution_count": null,
   "metadata": {},
   "outputs": [],
   "source": []
  },
  {
   "cell_type": "code",
   "execution_count": null,
   "metadata": {},
   "outputs": [],
   "source": []
  }
 ],
 "metadata": {
  "kernelspec": {
   "display_name": "Python 3",
   "language": "python",
   "name": "python3"
  },
  "language_info": {
   "codemirror_mode": {
    "name": "ipython",
    "version": 3
   },
   "file_extension": ".py",
   "mimetype": "text/x-python",
   "name": "python",
   "nbconvert_exporter": "python",
   "pygments_lexer": "ipython3",
   "version": "3.8.5"
  }
 },
 "nbformat": 4,
 "nbformat_minor": 4
}
