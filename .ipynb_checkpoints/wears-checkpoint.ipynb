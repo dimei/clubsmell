{
 "cells": [
  {
   "cell_type": "code",
   "execution_count": 1,
   "metadata": {},
   "outputs": [],
   "source": [
    "#! pip install plotly-express\n",
    "#! pip install streamlit\n",
    "#! pip install pandas\n",
    "#!pip install --upgrade numpy\n",
    "#!pip install --upgrade openpyxl\n"
   ]
  },
  {
   "cell_type": "code",
   "execution_count": 2,
   "metadata": {},
   "outputs": [],
   "source": [
    "import pandas as pd\n",
    "\n",
    "import numpy as np"
   ]
  },
  {
   "cell_type": "code",
   "execution_count": 3,
   "metadata": {},
   "outputs": [
    {
     "name": "stdout",
     "output_type": "stream",
     "text": [
      "Version de pandas: 2.0.3\n"
     ]
    }
   ],
   "source": [
    "\n",
    "print(\"Version de pandas:\", pd.__version__)"
   ]
  },
  {
   "cell_type": "code",
   "execution_count": 15,
   "metadata": {},
   "outputs": [],
   "source": [
    "def read_wears():\n",
    "    \"\"\"Read wears tabs into wears_df\"\"\"\n",
    "    excel_file='Copy of Silly_Fragrance_excel.xlsx'\n",
    "    # Read all sheets into a dictionary\n",
    "    all_sheets = pd.read_excel(excel_file, sheet_name=None)\n",
    "\n",
    "    # Filter sheets containing 'Wears for'\n",
    "    wears_sheets = {sheet_name: sheet_df for sheet_name, sheet_df in all_sheets.items() if 'Wears for' in sheet_name}\n",
    "    \n",
    "    #sort ascending, so that is in order by each year 2021-2022, 2023, 2024\n",
    "    wears_sheets_ordered = dict(sorted(wears_sheets.items()))\n",
    "    \n",
    "    # Concatenate all DataFrames into one DataFrame with a new column 'sheet_name'\n",
    "    wears_df = pd.concat([df.assign(sheet_name=sheet_name) for sheet_name, df in wears_sheets_ordered.items()], ignore_index=True)\n",
    "    wears_df=wears_df.dropna(how='all')\n",
    "    wears_df = wears_df.loc[:, ~wears_df.columns.str.contains('^Unnamed')]\n",
    "    wears_df = wears_df[wears_df['Wears'] != 0]\n",
    "    return wears_df\n"
   ]
  },
  {
   "cell_type": "code",
   "execution_count": 21,
   "metadata": {},
   "outputs": [],
   "source": [
    "def sum_wears(wears_df,frag):\n",
    "    \"\"\"For wears_df and given frag, return sum of alltimewears for given frag, and dict of wears per year(per tab)\"\"\"\n",
    "    \n",
    "    wears_allsum=wears_df.groupby(['Fragrance'])['Wears'].sum()\n",
    "    \n",
    "    frag_wears_alltime=wears_allsum[frag]\n",
    "    rank= int(wears_allsum.rank(ascending=False)[frag])\n",
    "    \n",
    "    total_ml_df=wears_df[wears_df[\"Fragrance\"]==frag][\"mL\"] * wears_df[wears_df[\"Fragrance\"]==frag][\"Backups\"]\n",
    "    total_ml=total_ml_df.unique()\n",
    "\n",
    "    # if total_ml no consensus amongst Wears tabs, take the last one -1 (most recent). \n",
    "    # if consensus, 0 to grab the only value\n",
    "    # assume 12 sprays per mL. 4 sprays per wear. So 1 wear is 4/12 of a mL\n",
    "    if len(total_ml) >1:\n",
    "        leftover_ml=total_ml[-1]-(frag_wears_alltime*4/12)\n",
    "    else:\n",
    "        leftover_ml=total_ml[0]-(frag_wears_alltime*4/12)\n",
    "\n",
    "\n",
    "    return frag_wears_alltime,rank, leftover_ml,wears_df[wears_df[\"Fragrance\"]==frag]\n",
    "\n"
   ]
  },
  {
   "cell_type": "code",
   "execution_count": 22,
   "metadata": {},
   "outputs": [
    {
     "data": {
      "text/plain": [
       "(60,\n",
       " 1,\n",
       " 180.0,\n",
       "       Fragrance           House   mL       Nose  \\\n",
       " 0   Iris Poudre  Frederic Malle  200  P.Bourdon   \n",
       " 53  Iris Poudre  Frederic Malle  200  P.Bourdon   \n",
       " 99  Iris Poudre  Frederic Malle  200  P.Bourdon   \n",
       " \n",
       "                                      Notes  Wears  Backups  \\\n",
       " 0   Iris, aldehydes, yellow florals, tonka     41        1   \n",
       " 53  Iris, aldehydes, yellow florals, tonka     18        1   \n",
       " 99  Iris, aldehydes, yellow florals, tonka      1        1   \n",
       " \n",
       "              sheet_name  \n",
       " 0   Wears for 2021-2022  \n",
       " 53       Wears for 2023  \n",
       " 99       Wears for 2024  )"
      ]
     },
     "execution_count": 22,
     "metadata": {},
     "output_type": "execute_result"
    }
   ],
   "source": [
    "wears_df=read_wears()\n",
    "frag=\"Iris Poudre\"\n",
    "sum_wears(wears_df,frag)"
   ]
  },
  {
   "cell_type": "code",
   "execution_count": 23,
   "metadata": {},
   "outputs": [
    {
     "name": "stdout",
     "output_type": "stream",
     "text": [
      "Version de pandas: 2.0.3\n"
     ]
    }
   ],
   "source": [
    "%run -i wears.ipynb\n"
   ]
  },
  {
   "cell_type": "code",
   "execution_count": null,
   "metadata": {},
   "outputs": [],
   "source": []
  }
 ],
 "metadata": {
  "kernelspec": {
   "display_name": "Python 3",
   "language": "python",
   "name": "python3"
  },
  "language_info": {
   "codemirror_mode": {
    "name": "ipython",
    "version": 3
   },
   "file_extension": ".py",
   "mimetype": "text/x-python",
   "name": "python",
   "nbconvert_exporter": "python",
   "pygments_lexer": "ipython3",
   "version": "3.8.5"
  }
 },
 "nbformat": 4,
 "nbformat_minor": 4
}
